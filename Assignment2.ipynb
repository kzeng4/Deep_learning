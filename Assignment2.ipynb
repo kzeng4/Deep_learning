{
  "cells": [
    {
      "cell_type": "markdown",
      "metadata": {
        "id": "view-in-github",
        "colab_type": "text"
      },
      "source": [
        "<a href=\"https://colab.research.google.com/github/kzeng4/Deep_learning/blob/CNN/Assignment2.ipynb\" target=\"_parent\"><img src=\"https://colab.research.google.com/assets/colab-badge.svg\" alt=\"Open In Colab\"/></a>"
      ]
    },
    {
      "cell_type": "markdown",
      "metadata": {
        "id": "1LAfNzsSTl9W"
      },
      "source": [
        "# Assignment 2: Build a CNN for image recognition.\n",
        "\n",
        "## Due Date:  March 29, 11:59PM\n",
        "\n",
        "### Name: [Kangping Zeng]\n"
      ]
    },
    {
      "cell_type": "markdown",
      "metadata": {
        "id": "URLtzQtsTl9a"
      },
      "source": [
        "## Introduction:\n",
        "\n",
        "1. In this assignment, you will build Convolutional Neural Network to classify CIFAR-10 Images.\n",
        "2. You can directly load dataset from many deep learning packages.\n",
        "3. You can use any deep learning packages such as pytorch, keras or tensorflow for this assignment."
      ]
    },
    {
      "cell_type": "markdown",
      "metadata": {
        "id": "strOEc0FTl9a"
      },
      "source": [
        "## Requirements:\n",
        "\n",
        "1. You need to load cifar 10 data and split the entire training dataset into training and validation.\n",
        "2. You will implement a CNN model to classify cifar 10 images with provided structure.\n",
        "3. You need to plot the training and validation accuracy or loss obtained from above step.\n",
        "4. Then you can use tuned parameters to train using the entire training dataset.\n",
        "5. You should report the testing accuracy using the model with complete data.\n",
        "6. You may try to change the structure (e.g, add BN layer or dropout layer,...) and analyze your findings.\n",
        "\n",
        "## Google Colab\n",
        "\n",
        "- If you do not have GPU, the training of a CNN can be slow. Google Colab is a good option."
      ]
    },
    {
      "cell_type": "markdown",
      "metadata": {
        "id": "m2p3peHVTl9b"
      },
      "source": [
        "## Batch Normalization (BN)"
      ]
    },
    {
      "cell_type": "markdown",
      "metadata": {
        "id": "b37j22rjTl9b"
      },
      "source": [
        "### Background:"
      ]
    },
    {
      "cell_type": "markdown",
      "metadata": {
        "id": "6WOh0F3eTl9c"
      },
      "source": [
        "- Batch Normalization is a technique to speed up training and help make the model more stable.\n",
        "- In simple words, batch normalization is just another network layer that gets inserted between a hidden layer and the next hidden layer. Its job is to take the outputs from the first hidden layer and normalize them before passing them on as the input of the next hidden layer.\n",
        "\n",
        "- For more detailed information, you may refer to the original paper: https://arxiv.org/pdf/1502.03167.pdf."
      ]
    },
    {
      "cell_type": "markdown",
      "metadata": {
        "id": "UP5ALcl1Tl9c"
      },
      "source": [
        "### BN Algorithm:"
      ]
    },
    {
      "cell_type": "markdown",
      "metadata": {
        "id": "AUsgnPLsTl9d"
      },
      "source": [
        "- Input: Values of $x$ over a mini-batch: $\\mathbf{B}$ = $\\{x_1,..., x_m\\};$\n",
        "- Output: $\\{y_i = BN_{\\gamma,\\beta}(x_i)\\}$, $\\gamma, \\beta$ are learnable parameters\n",
        "\n",
        "Normalization of the Input:\n",
        "$$\\mu_{\\mathbf{B}} = \\frac{1}{m}\\sum_{i=1}^m x_i$$\n",
        "$$\\sigma_{\\mathbf{B}}^2 = \\frac{1}{m}\\sum_{i=1}^m (x_i - \\mu_{\\mathbf{B}})^2$$\n",
        "$$\\hat{x_i} = \\frac{x_i - \\mu_{\\mathbf{B}}}{\\sqrt{\\sigma_{\\mathbf{B}}}^2 + \\epsilon}$$\n",
        "Re-scaling and Offsetting:\n",
        "$$y_i = \\gamma \\hat{x_i} + \\beta = BN_{\\gamma,\\beta}(x_i)$$\n"
      ]
    },
    {
      "cell_type": "markdown",
      "metadata": {
        "id": "3NGVvu3lTl9d"
      },
      "source": [
        "### Advantages of BN:\n",
        "1. Improves gradient flow through the network.\n",
        "2. Allows use of saturating nonlinearities and higher learning rates.\n",
        "3. Makes weights easier to initialize.\n",
        "4. Act as a form of regularization and may reduce the need for dropout."
      ]
    },
    {
      "cell_type": "markdown",
      "metadata": {
        "id": "DbJ3Zf7QTl9e"
      },
      "source": [
        "### Implementation:"
      ]
    },
    {
      "cell_type": "markdown",
      "metadata": {
        "id": "lRg05eYHTl9f"
      },
      "source": [
        "- The batch normalization layer has already been implemented in many packages. You may simply call the function to build the layer. For example: torch.nn.BatchNorm2d() using pytroch package, keras.layers.BatchNormalization() using keras package.\n",
        "- The location of BN layer: Please make sure ```BatchNormalization``` is between a ```Conv```/```Dense``` layer and an ```activation``` layer."
      ]
    },
    {
      "cell_type": "markdown",
      "metadata": {
        "id": "tVjy8rDyTl9f"
      },
      "source": [
        "## 1. Data preparation"
      ]
    },
    {
      "cell_type": "markdown",
      "metadata": {
        "id": "QDEEHzNWTl9f"
      },
      "source": [
        "### 1.1. Load data\n"
      ]
    },
    {
      "cell_type": "code",
      "execution_count": 3,
      "metadata": {
        "colab": {
          "base_uri": "https://localhost:8080/"
        },
        "id": "hK1grev3Tl9g",
        "outputId": "7f6e3f1f-a5ff-441a-f8af-0dc2d572f7b1"
      },
      "outputs": [
        {
          "output_type": "stream",
          "name": "stdout",
          "text": [
            "Downloading data from https://www.cs.toronto.edu/~kriz/cifar-10-python.tar.gz\n",
            "170500096/170498071 [==============================] - 3s 0us/step\n",
            "170508288/170498071 [==============================] - 3s 0us/step\n",
            "shape of x_train: (50000, 32, 32, 3)\n",
            "shape of y_train: (50000, 1)\n",
            "shape of x_test: (10000, 32, 32, 3)\n",
            "shape of y_test: (10000, 1)\n",
            "number of classes: 10\n"
          ]
        }
      ],
      "source": [
        "# Load Cifar-10 Data\n",
        "# This is just an example, you may load dataset from other packages.\n",
        "import keras\n",
        "import numpy as np\n",
        "\n",
        "### If you can not load keras dataset, un-comment these two lines.\n",
        "#import ssl\n",
        "#ssl._create_default_https_context = ssl._create_unverified_context\n",
        "\n",
        "(x_train, y_train), (x_test, y_test) = keras.datasets.cifar10.load_data()\n",
        "\n",
        "print('shape of x_train: ' + str(x_train.shape))\n",
        "print('shape of y_train: ' + str(y_train.shape))\n",
        "print('shape of x_test: ' + str(x_test.shape))\n",
        "print('shape of y_test: ' + str(y_test.shape))\n",
        "print('number of classes: ' + str(np.max(y_train) - np.min(y_train) + 1))"
      ]
    },
    {
      "cell_type": "markdown",
      "metadata": {
        "id": "nR4zVLu8Tl9h"
      },
      "source": [
        "### 1.2. One-hot encode the labels (5 points)\n",
        "\n",
        "In the input, a label is a scalar in $\\{0, 1, \\cdots , 9\\}$. One-hot encode transform such a scalar to a $10$-dim vector. E.g., a scalar ```y_train[j]=3``` is transformed to the vector ```y_train_vec[j]=[0, 0, 0, 1, 0, 0, 0, 0, 0, 0]```.\n",
        "\n",
        "1. Implement a function ```to_one_hot``` that transforms an $n\\times 1$ array to a $n\\times 10$ matrix.\n",
        "\n",
        "2. Apply the function to ```y_train``` and ```y_test```."
      ]
    },
    {
      "cell_type": "code",
      "execution_count": 4,
      "metadata": {
        "colab": {
          "base_uri": "https://localhost:8080/"
        },
        "id": "hUwEg-4mTl9i",
        "outputId": "f58a1b46-8d76-48f9-f428-c8f5e800a22f"
      },
      "outputs": [
        {
          "output_type": "stream",
          "name": "stdout",
          "text": [
            "Shape of y_train_vec: (50000, 10)\n",
            "Shape of y_test_vec: (10000, 10)\n",
            "[6]\n",
            "[0. 0. 0. 0. 0. 0. 1. 0. 0. 0.]\n"
          ]
        }
      ],
      "source": [
        "def to_one_hot(y, num_class=10):\n",
        "    vec = np.zeros((len(y),num_class))\n",
        "    for i in range(len(y)):\n",
        "      vec[i,y[i]] = 1\n",
        "    return vec\n",
        "    pass\n",
        "\n",
        "y_train_vec = to_one_hot(y_train)\n",
        "y_test_vec = to_one_hot(y_test)\n",
        "\n",
        "print('Shape of y_train_vec: ' + str(y_train_vec.shape))\n",
        "print('Shape of y_test_vec: ' + str(y_test_vec.shape))\n",
        "\n",
        "print(y_train[0])\n",
        "print(y_train_vec[0])"
      ]
    },
    {
      "cell_type": "markdown",
      "metadata": {
        "id": "Ok-AN8EZTl9i"
      },
      "source": [
        "#### Remark: the outputs should be\n",
        "* Shape of y_train_vec: (50000, 10)\n",
        "* Shape of y_test_vec: (10000, 10)\n",
        "* [6]\n",
        "* [0. 0. 0. 0. 0. 0. 1. 0. 0. 0.]"
      ]
    },
    {
      "cell_type": "markdown",
      "metadata": {
        "id": "8Lzq6Ea6Tl9i"
      },
      "source": [
        "### 1.3. Randomly partition the training set to training and validation sets (5 points)\n",
        "\n",
        "Randomly partition the 50K training samples to 2 sets: \n",
        "* a training set containing 40K samples: x_tr, y_tr\n",
        "* a validation set containing 10K samples: x_val, y_val\n"
      ]
    },
    {
      "cell_type": "code",
      "execution_count": 5,
      "metadata": {
        "colab": {
          "base_uri": "https://localhost:8080/"
        },
        "id": "n0fWP9B0Tl9j",
        "outputId": "81511b4c-059f-4a64-a5a6-c32d134a23f5"
      },
      "outputs": [
        {
          "output_type": "stream",
          "name": "stdout",
          "text": [
            "Shape of x_tr: (40000, 32, 32, 3)\n",
            "Shape of y_tr: (40000, 10)\n",
            "Shape of x_val: (10000, 32, 32, 3)\n",
            "Shape of y_val: (10000, 10)\n"
          ]
        }
      ],
      "source": [
        "random_id = np.random.RandomState(seed=44).permutation(50000)\n",
        "train_id = random_id[0:40000]\n",
        "val_id = random_id[40000:50000]\n",
        "x_tr = x_train[train_id,:]\n",
        "y_tr = y_train_vec[train_id,:]\n",
        "x_val = x_train[val_id,:]\n",
        "y_val = y_train_vec[val_id,:]\n",
        "\n",
        "print('Shape of x_tr: ' + str(x_tr.shape))\n",
        "print('Shape of y_tr: ' + str(y_tr.shape))\n",
        "print('Shape of x_val: ' + str(x_val.shape))\n",
        "print('Shape of y_val: ' + str(y_val.shape))"
      ]
    },
    {
      "cell_type": "markdown",
      "metadata": {
        "id": "vQJiIxyyTl9j"
      },
      "source": [
        "## 2. Build a CNN and tune its hyper-parameters (50 points)\n",
        "\n",
        "- Build a convolutional neural network model using the below structure:\n",
        "\n",
        "- It should have a structure of: Conv - ReLU - Max Pool - ConV - ReLU - Max Pool - Dense - ReLU - Dense - Softmax\n",
        "\n",
        "- In the graph 3@32x32 means the dimension of input image, 32@30x30 means it has 32 filters and the dimension now becomes 30x30 after the convolution.\n",
        "- All convolutional layers (Conv) should have stride = 1 and no padding.\n",
        "- Max Pooling has a pool size of 2 by 2.\n",
        "\n",
        "\n"
      ]
    },
    {
      "cell_type": "markdown",
      "metadata": {
        "id": "-oTKQUDETl9j"
      },
      "source": [
        "<img src=\"network.PNG\"/>"
      ]
    },
    {
      "cell_type": "markdown",
      "metadata": {
        "id": "VDwD7FKDTl9j"
      },
      "source": [
        "- You may use the validation data to tune the hyper-parameters (e.g., learning rate, and optimization algorithm)\n",
        "- Do NOT use test data for hyper-parameter tuning!!!\n",
        "- Try to achieve a validation accuracy as high as possible."
      ]
    },
    {
      "cell_type": "code",
      "execution_count": 6,
      "metadata": {
        "id": "OXefbL4eTl9k"
      },
      "outputs": [],
      "source": [
        "# Build the model\n",
        "from keras import models\n",
        "from keras import layers\n",
        "model = models.Sequential()\n",
        "model.add(layers.Conv2D(32,(3,3),padding='valid',activation='relu', input_shape=(32,32,3)))\n",
        "model.add(layers.MaxPooling2D((2,2)))\n",
        "model.add(layers.Conv2D(64,(4,4),padding='valid',activation='relu'))\n",
        "model.add(layers.MaxPooling2D((2,2)))\n",
        "model.add(layers.Flatten())\n",
        "model.add(layers.Dense(256,activation='relu'))\n",
        "model.add(layers.Dense(10,activation='Softmax'))"
      ]
    },
    {
      "cell_type": "code",
      "source": [
        "model.summary()"
      ],
      "metadata": {
        "colab": {
          "base_uri": "https://localhost:8080/"
        },
        "id": "Z1exm-YEkTvl",
        "outputId": "0456c057-8555-4773-e5af-28cc5d86205d"
      },
      "execution_count": 7,
      "outputs": [
        {
          "output_type": "stream",
          "name": "stdout",
          "text": [
            "Model: \"sequential\"\n",
            "_________________________________________________________________\n",
            " Layer (type)                Output Shape              Param #   \n",
            "=================================================================\n",
            " conv2d (Conv2D)             (None, 30, 30, 32)        896       \n",
            "                                                                 \n",
            " max_pooling2d (MaxPooling2D  (None, 15, 15, 32)       0         \n",
            " )                                                               \n",
            "                                                                 \n",
            " conv2d_1 (Conv2D)           (None, 12, 12, 64)        32832     \n",
            "                                                                 \n",
            " max_pooling2d_1 (MaxPooling  (None, 6, 6, 64)         0         \n",
            " 2D)                                                             \n",
            "                                                                 \n",
            " flatten (Flatten)           (None, 2304)              0         \n",
            "                                                                 \n",
            " dense (Dense)               (None, 256)               590080    \n",
            "                                                                 \n",
            " dense_1 (Dense)             (None, 10)                2570      \n",
            "                                                                 \n",
            "=================================================================\n",
            "Total params: 626,378\n",
            "Trainable params: 626,378\n",
            "Non-trainable params: 0\n",
            "_________________________________________________________________\n"
          ]
        }
      ]
    },
    {
      "cell_type": "code",
      "execution_count": 8,
      "metadata": {
        "id": "AGKqlSUeTl9k"
      },
      "outputs": [],
      "source": [
        "# Define model optimizer and loss function\n",
        "from tensorflow.keras import optimizers\n",
        "model.compile(optimizers.Adam(learning_rate=1e-4),loss='categorical_crossentropy',metrics = 'accuracy')"
      ]
    },
    {
      "cell_type": "code",
      "execution_count": 9,
      "metadata": {
        "colab": {
          "base_uri": "https://localhost:8080/"
        },
        "id": "kDG8jUEBTl9k",
        "outputId": "0d7979d6-0a7a-498b-8d6f-2df7caf11f15"
      },
      "outputs": [
        {
          "output_type": "stream",
          "name": "stdout",
          "text": [
            "Epoch 1/50\n",
            "313/313 [==============================] - 15s 14ms/step - loss: 5.5263 - accuracy: 0.2554 - val_loss: 2.9037 - val_accuracy: 0.3295\n",
            "Epoch 2/50\n",
            "313/313 [==============================] - 4s 12ms/step - loss: 2.3128 - accuracy: 0.3737 - val_loss: 2.0758 - val_accuracy: 0.3819\n",
            "Epoch 3/50\n",
            "313/313 [==============================] - 4s 12ms/step - loss: 1.7693 - accuracy: 0.4385 - val_loss: 1.7387 - val_accuracy: 0.4425\n",
            "Epoch 4/50\n",
            "313/313 [==============================] - 4s 12ms/step - loss: 1.5239 - accuracy: 0.4895 - val_loss: 1.6046 - val_accuracy: 0.4728\n",
            "Epoch 5/50\n",
            "313/313 [==============================] - 4s 12ms/step - loss: 1.3516 - accuracy: 0.5385 - val_loss: 1.4949 - val_accuracy: 0.5038\n",
            "Epoch 6/50\n",
            "313/313 [==============================] - 4s 13ms/step - loss: 1.2341 - accuracy: 0.5778 - val_loss: 1.4063 - val_accuracy: 0.5381\n",
            "Epoch 7/50\n",
            "313/313 [==============================] - 4s 12ms/step - loss: 1.1231 - accuracy: 0.6143 - val_loss: 1.3700 - val_accuracy: 0.5527\n",
            "Epoch 8/50\n",
            "313/313 [==============================] - 4s 12ms/step - loss: 1.0250 - accuracy: 0.6499 - val_loss: 1.3212 - val_accuracy: 0.5706\n",
            "Epoch 9/50\n",
            "313/313 [==============================] - 4s 13ms/step - loss: 0.9440 - accuracy: 0.6762 - val_loss: 1.2965 - val_accuracy: 0.5836\n",
            "Epoch 10/50\n",
            "313/313 [==============================] - 4s 12ms/step - loss: 0.8524 - accuracy: 0.7081 - val_loss: 1.3203 - val_accuracy: 0.5812\n",
            "Epoch 11/50\n",
            "313/313 [==============================] - 4s 13ms/step - loss: 0.7809 - accuracy: 0.7332 - val_loss: 1.3120 - val_accuracy: 0.5926\n",
            "Epoch 12/50\n",
            "313/313 [==============================] - 4s 12ms/step - loss: 0.7047 - accuracy: 0.7626 - val_loss: 1.3291 - val_accuracy: 0.5935\n",
            "Epoch 13/50\n",
            "313/313 [==============================] - 4s 12ms/step - loss: 0.6394 - accuracy: 0.7853 - val_loss: 1.3221 - val_accuracy: 0.5992\n",
            "Epoch 14/50\n",
            "313/313 [==============================] - 4s 12ms/step - loss: 0.5752 - accuracy: 0.8073 - val_loss: 1.2968 - val_accuracy: 0.6124\n",
            "Epoch 15/50\n",
            "313/313 [==============================] - 4s 12ms/step - loss: 0.5100 - accuracy: 0.8344 - val_loss: 1.3444 - val_accuracy: 0.6085\n",
            "Epoch 16/50\n",
            "313/313 [==============================] - 4s 12ms/step - loss: 0.4605 - accuracy: 0.8512 - val_loss: 1.3495 - val_accuracy: 0.6115\n",
            "Epoch 17/50\n",
            "313/313 [==============================] - 4s 13ms/step - loss: 0.4070 - accuracy: 0.8703 - val_loss: 1.3420 - val_accuracy: 0.6208\n",
            "Epoch 18/50\n",
            "313/313 [==============================] - 4s 12ms/step - loss: 0.3515 - accuracy: 0.8921 - val_loss: 1.3988 - val_accuracy: 0.6208\n",
            "Epoch 19/50\n",
            "313/313 [==============================] - 4s 14ms/step - loss: 0.3097 - accuracy: 0.9075 - val_loss: 1.4276 - val_accuracy: 0.6237\n",
            "Epoch 20/50\n",
            "313/313 [==============================] - 4s 12ms/step - loss: 0.2688 - accuracy: 0.9216 - val_loss: 1.4592 - val_accuracy: 0.6266\n",
            "Epoch 21/50\n",
            "313/313 [==============================] - 4s 13ms/step - loss: 0.2278 - accuracy: 0.9373 - val_loss: 1.5135 - val_accuracy: 0.6301\n",
            "Epoch 22/50\n",
            "313/313 [==============================] - 4s 12ms/step - loss: 0.1952 - accuracy: 0.9485 - val_loss: 1.5687 - val_accuracy: 0.6244\n",
            "Epoch 23/50\n",
            "313/313 [==============================] - 4s 13ms/step - loss: 0.1649 - accuracy: 0.9597 - val_loss: 1.6086 - val_accuracy: 0.6239\n",
            "Epoch 24/50\n",
            "313/313 [==============================] - 4s 12ms/step - loss: 0.1378 - accuracy: 0.9687 - val_loss: 1.6397 - val_accuracy: 0.6300\n",
            "Epoch 25/50\n",
            "313/313 [==============================] - 4s 13ms/step - loss: 0.1155 - accuracy: 0.9757 - val_loss: 1.7111 - val_accuracy: 0.6291\n",
            "Epoch 26/50\n",
            "313/313 [==============================] - 4s 12ms/step - loss: 0.0933 - accuracy: 0.9811 - val_loss: 1.7350 - val_accuracy: 0.6342\n",
            "Epoch 27/50\n",
            "313/313 [==============================] - 4s 12ms/step - loss: 0.0760 - accuracy: 0.9872 - val_loss: 1.8368 - val_accuracy: 0.6283\n",
            "Epoch 28/50\n",
            "313/313 [==============================] - 4s 12ms/step - loss: 0.0627 - accuracy: 0.9899 - val_loss: 1.9051 - val_accuracy: 0.6366\n",
            "Epoch 29/50\n",
            "313/313 [==============================] - 4s 12ms/step - loss: 0.0541 - accuracy: 0.9919 - val_loss: 1.9351 - val_accuracy: 0.6340\n",
            "Epoch 30/50\n",
            "313/313 [==============================] - 4s 12ms/step - loss: 0.0443 - accuracy: 0.9944 - val_loss: 1.9855 - val_accuracy: 0.6395\n",
            "Epoch 31/50\n",
            "313/313 [==============================] - 4s 12ms/step - loss: 0.0384 - accuracy: 0.9955 - val_loss: 2.0624 - val_accuracy: 0.6299\n",
            "Epoch 32/50\n",
            "313/313 [==============================] - 4s 12ms/step - loss: 0.0498 - accuracy: 0.9907 - val_loss: 2.0694 - val_accuracy: 0.6332\n",
            "Epoch 33/50\n",
            "313/313 [==============================] - 4s 13ms/step - loss: 0.0409 - accuracy: 0.9933 - val_loss: 2.1469 - val_accuracy: 0.6365\n",
            "Epoch 34/50\n",
            "313/313 [==============================] - 4s 13ms/step - loss: 0.0208 - accuracy: 0.9986 - val_loss: 2.1662 - val_accuracy: 0.6429\n",
            "Epoch 35/50\n",
            "313/313 [==============================] - 4s 12ms/step - loss: 0.0125 - accuracy: 0.9995 - val_loss: 2.2075 - val_accuracy: 0.6448\n",
            "Epoch 36/50\n",
            "313/313 [==============================] - 4s 12ms/step - loss: 0.0098 - accuracy: 0.9997 - val_loss: 2.2975 - val_accuracy: 0.6469\n",
            "Epoch 37/50\n",
            "313/313 [==============================] - 4s 12ms/step - loss: 0.0073 - accuracy: 0.9999 - val_loss: 2.3156 - val_accuracy: 0.6448\n",
            "Epoch 38/50\n",
            "313/313 [==============================] - 4s 13ms/step - loss: 0.0053 - accuracy: 1.0000 - val_loss: 2.3691 - val_accuracy: 0.6464\n",
            "Epoch 39/50\n",
            "313/313 [==============================] - 4s 12ms/step - loss: 0.0042 - accuracy: 1.0000 - val_loss: 2.4404 - val_accuracy: 0.6449\n",
            "Epoch 40/50\n",
            "313/313 [==============================] - 4s 12ms/step - loss: 0.0035 - accuracy: 1.0000 - val_loss: 2.4819 - val_accuracy: 0.6474\n",
            "Epoch 41/50\n",
            "313/313 [==============================] - 4s 13ms/step - loss: 0.0030 - accuracy: 1.0000 - val_loss: 2.5337 - val_accuracy: 0.6443\n",
            "Epoch 42/50\n",
            "313/313 [==============================] - 4s 12ms/step - loss: 0.0025 - accuracy: 1.0000 - val_loss: 2.5670 - val_accuracy: 0.6492\n",
            "Epoch 43/50\n",
            "313/313 [==============================] - 4s 12ms/step - loss: 0.0021 - accuracy: 1.0000 - val_loss: 2.6114 - val_accuracy: 0.6488\n",
            "Epoch 44/50\n",
            "313/313 [==============================] - 4s 12ms/step - loss: 0.0016 - accuracy: 1.0000 - val_loss: 2.6583 - val_accuracy: 0.6498\n",
            "Epoch 45/50\n",
            "313/313 [==============================] - 4s 12ms/step - loss: 0.0605 - accuracy: 0.9840 - val_loss: 2.4065 - val_accuracy: 0.5887\n",
            "Epoch 46/50\n",
            "313/313 [==============================] - 4s 13ms/step - loss: 0.1662 - accuracy: 0.9456 - val_loss: 2.3520 - val_accuracy: 0.6279\n",
            "Epoch 47/50\n",
            "313/313 [==============================] - 4s 12ms/step - loss: 0.0237 - accuracy: 0.9949 - val_loss: 2.4094 - val_accuracy: 0.6431\n",
            "Epoch 48/50\n",
            "313/313 [==============================] - 4s 13ms/step - loss: 0.0055 - accuracy: 0.9998 - val_loss: 2.4547 - val_accuracy: 0.6475\n",
            "Epoch 49/50\n",
            "313/313 [==============================] - 4s 12ms/step - loss: 0.0029 - accuracy: 1.0000 - val_loss: 2.5069 - val_accuracy: 0.6491\n",
            "Epoch 50/50\n",
            "313/313 [==============================] - 4s 13ms/step - loss: 0.0022 - accuracy: 1.0000 - val_loss: 2.5541 - val_accuracy: 0.6490\n"
          ]
        }
      ],
      "source": [
        "# Train the model and store model parameters/loss values\n",
        "history = model.fit(x_tr, y_tr,\n",
        "                   batch_size=128, epochs=50,\n",
        "                   validation_data=(x_val, y_val))"
      ]
    },
    {
      "cell_type": "markdown",
      "metadata": {
        "id": "3MxJygOTTl9k"
      },
      "source": [
        "## 3. Plot the training and validation loss curve versus epochs. (5 points)"
      ]
    },
    {
      "cell_type": "code",
      "execution_count": 10,
      "metadata": {
        "id": "bKqKIVo7Tl9k",
        "colab": {
          "base_uri": "https://localhost:8080/",
          "height": 279
        },
        "outputId": "fe109558-bf9a-4589-804f-e8bd7c3c8769"
      },
      "outputs": [
        {
          "output_type": "display_data",
          "data": {
            "text/plain": [
              "<Figure size 432x288 with 1 Axes>"
            ],
            "image/png": "[encoded data removed]"
          },
          "metadata": {
            "needs_background": "light"
          }
        }
      ],
      "source": [
        "# Plot the loss curve\n",
        "import matplotlib.pyplot as plt\n",
        "%matplotlib inline\n",
        "\n",
        "epochs = range(50)\n",
        "train_loss = history.history['loss']\n",
        "val_loss = history.history['val_loss']\n",
        "plt.plot(epochs, train_loss, 'go', label = 'Training Loss')\n",
        "plt.plot(epochs, val_loss, 'r', label = 'validation Loss')\n",
        "plt.xlabel('Epochs')\n",
        "plt.ylabel('Loss')\n",
        "plt.legend()\n",
        "plt.show()"
      ]
    },
    {
      "cell_type": "markdown",
      "metadata": {
        "id": "KpBq31FhTl9l"
      },
      "source": [
        "## 4. Train (again) and evaluate the model (5 points)\n",
        "\n",
        "- To this end, you have found the \"best\" hyper-parameters. \n",
        "- Now, fix the hyper-parameters and train the network on the entire training set (all the 50K training samples)\n",
        "- Evaluate your model on the test set."
      ]
    },
    {
      "cell_type": "markdown",
      "metadata": {
        "id": "uRmdejLXTl9l"
      },
      "source": [
        "### Train the model on the entire training set\n",
        "\n",
        "Why? Previously, you used 40K samples for training; you wasted 10K samples for the sake of hyper-parameter tuning. Now you already know the hyper-parameters, so why not using all the 50K samples for training?"
      ]
    },
    {
      "cell_type": "code",
      "execution_count": 11,
      "metadata": {
        "id": "iI_42iFCTl9l"
      },
      "outputs": [],
      "source": [
        "#<Compile your model again (using the same hyper-parameters you tuned above)>\n",
        "model.compile(optimizers.Adam(learning_rate=1e-4),loss='categorical_crossentropy',metrics = 'accuracy')"
      ]
    },
    {
      "cell_type": "code",
      "execution_count": 12,
      "metadata": {
        "id": "pIbMX61BTl9l",
        "colab": {
          "base_uri": "https://localhost:8080/"
        },
        "outputId": "9a49a534-3579-4aa8-c867-ed5705cfe6b8"
      },
      "outputs": [
        {
          "output_type": "stream",
          "name": "stdout",
          "text": [
            "Epoch 1/50\n",
            "391/391 [==============================] - 5s 11ms/step - loss: 0.4697 - accuracy: 0.9122\n",
            "Epoch 2/50\n",
            "391/391 [==============================] - 4s 10ms/step - loss: 0.2890 - accuracy: 0.9323\n",
            "Epoch 3/50\n",
            "391/391 [==============================] - 4s 10ms/step - loss: 0.1911 - accuracy: 0.9511\n",
            "Epoch 4/50\n",
            "391/391 [==============================] - 4s 10ms/step - loss: 0.1228 - accuracy: 0.9679\n",
            "Epoch 5/50\n",
            "391/391 [==============================] - 4s 11ms/step - loss: 0.0816 - accuracy: 0.9794\n",
            "Epoch 6/50\n",
            "391/391 [==============================] - 4s 10ms/step - loss: 0.0522 - accuracy: 0.9888\n",
            "Epoch 7/50\n",
            "391/391 [==============================] - 4s 10ms/step - loss: 0.0362 - accuracy: 0.9932\n",
            "Epoch 8/50\n",
            "391/391 [==============================] - 4s 10ms/step - loss: 0.0254 - accuracy: 0.9961\n",
            "Epoch 9/50\n",
            "391/391 [==============================] - 4s 10ms/step - loss: 0.0185 - accuracy: 0.9978\n",
            "Epoch 10/50\n",
            "391/391 [==============================] - 4s 10ms/step - loss: 0.0150 - accuracy: 0.9986\n",
            "Epoch 11/50\n",
            "391/391 [==============================] - 4s 10ms/step - loss: 0.0214 - accuracy: 0.9962\n",
            "Epoch 12/50\n",
            "391/391 [==============================] - 4s 10ms/step - loss: 0.0806 - accuracy: 0.9733\n",
            "Epoch 13/50\n",
            "391/391 [==============================] - 4s 10ms/step - loss: 0.0214 - accuracy: 0.9957\n",
            "Epoch 14/50\n",
            "391/391 [==============================] - 4s 10ms/step - loss: 0.0073 - accuracy: 0.9997\n",
            "Epoch 15/50\n",
            "391/391 [==============================] - 4s 11ms/step - loss: 0.0033 - accuracy: 1.0000\n",
            "Epoch 16/50\n",
            "391/391 [==============================] - 4s 11ms/step - loss: 0.0023 - accuracy: 1.0000\n",
            "Epoch 17/50\n",
            "391/391 [==============================] - 4s 11ms/step - loss: 0.0018 - accuracy: 1.0000\n",
            "Epoch 18/50\n",
            "391/391 [==============================] - 4s 11ms/step - loss: 0.0015 - accuracy: 1.0000\n",
            "Epoch 19/50\n",
            "391/391 [==============================] - 4s 10ms/step - loss: 0.0013 - accuracy: 1.0000\n",
            "Epoch 20/50\n",
            "391/391 [==============================] - 4s 10ms/step - loss: 0.0011 - accuracy: 1.0000\n",
            "Epoch 21/50\n",
            "391/391 [==============================] - 4s 10ms/step - loss: 9.3816e-04 - accuracy: 1.0000\n",
            "Epoch 22/50\n",
            "391/391 [==============================] - 4s 11ms/step - loss: 7.9606e-04 - accuracy: 1.0000\n",
            "Epoch 23/50\n",
            "391/391 [==============================] - 4s 11ms/step - loss: 6.7713e-04 - accuracy: 1.0000\n",
            "Epoch 24/50\n",
            "391/391 [==============================] - 4s 10ms/step - loss: 5.5592e-04 - accuracy: 1.0000\n",
            "Epoch 25/50\n",
            "391/391 [==============================] - 4s 11ms/step - loss: 4.7311e-04 - accuracy: 1.0000\n",
            "Epoch 26/50\n",
            "391/391 [==============================] - 4s 11ms/step - loss: 0.1534 - accuracy: 0.9538\n",
            "Epoch 27/50\n",
            "391/391 [==============================] - 4s 11ms/step - loss: 0.0242 - accuracy: 0.9939\n",
            "Epoch 28/50\n",
            "391/391 [==============================] - 4s 11ms/step - loss: 0.0073 - accuracy: 0.9992\n",
            "Epoch 29/50\n",
            "391/391 [==============================] - 4s 11ms/step - loss: 0.0020 - accuracy: 1.0000\n",
            "Epoch 30/50\n",
            "391/391 [==============================] - 4s 11ms/step - loss: 0.0011 - accuracy: 1.0000\n",
            "Epoch 31/50\n",
            "391/391 [==============================] - 4s 10ms/step - loss: 9.1840e-04 - accuracy: 1.0000\n",
            "Epoch 32/50\n",
            "391/391 [==============================] - 4s 11ms/step - loss: 7.7124e-04 - accuracy: 1.0000\n",
            "Epoch 33/50\n",
            "391/391 [==============================] - 4s 11ms/step - loss: 6.6349e-04 - accuracy: 1.0000\n",
            "Epoch 34/50\n",
            "391/391 [==============================] - 4s 11ms/step - loss: 5.7622e-04 - accuracy: 1.0000\n",
            "Epoch 35/50\n",
            "391/391 [==============================] - 4s 10ms/step - loss: 4.9968e-04 - accuracy: 1.0000\n",
            "Epoch 36/50\n",
            "391/391 [==============================] - 4s 11ms/step - loss: 4.3264e-04 - accuracy: 1.0000\n",
            "Epoch 37/50\n",
            "391/391 [==============================] - 4s 11ms/step - loss: 3.8041e-04 - accuracy: 1.0000\n",
            "Epoch 38/50\n",
            "391/391 [==============================] - 4s 11ms/step - loss: 3.3213e-04 - accuracy: 1.0000\n",
            "Epoch 39/50\n",
            "391/391 [==============================] - 4s 11ms/step - loss: 2.8836e-04 - accuracy: 1.0000\n",
            "Epoch 40/50\n",
            "391/391 [==============================] - 4s 11ms/step - loss: 2.4657e-04 - accuracy: 1.0000\n",
            "Epoch 41/50\n",
            "391/391 [==============================] - 4s 11ms/step - loss: 2.1437e-04 - accuracy: 1.0000\n",
            "Epoch 42/50\n",
            "391/391 [==============================] - 4s 11ms/step - loss: 1.8470e-04 - accuracy: 1.0000\n",
            "Epoch 43/50\n",
            "391/391 [==============================] - 4s 10ms/step - loss: 1.5965e-04 - accuracy: 1.0000\n",
            "Epoch 44/50\n",
            "391/391 [==============================] - 4s 10ms/step - loss: 1.3430e-04 - accuracy: 1.0000\n",
            "Epoch 45/50\n",
            "391/391 [==============================] - 4s 10ms/step - loss: 1.1650e-04 - accuracy: 1.0000\n",
            "Epoch 46/50\n",
            "391/391 [==============================] - 4s 11ms/step - loss: 9.9189e-05 - accuracy: 1.0000\n",
            "Epoch 47/50\n",
            "391/391 [==============================] - 4s 11ms/step - loss: 8.2050e-05 - accuracy: 1.0000\n",
            "Epoch 48/50\n",
            "391/391 [==============================] - 4s 11ms/step - loss: 6.9669e-05 - accuracy: 1.0000\n",
            "Epoch 49/50\n",
            "391/391 [==============================] - 4s 11ms/step - loss: 5.8152e-05 - accuracy: 1.0000\n",
            "Epoch 50/50\n",
            "391/391 [==============================] - 4s 11ms/step - loss: 4.8906e-05 - accuracy: 1.0000\n"
          ]
        }
      ],
      "source": [
        "#<Train your model on the entire training set (50K samples)>\n",
        "history1 = model.fit(x_train, y_train_vec,\n",
        "                   batch_size=128, epochs=50)"
      ]
    },
    {
      "cell_type": "markdown",
      "metadata": {
        "id": "DIKR6sFxTl9l"
      },
      "source": [
        "## 5. Evaluate the model on the test set (5 points)\n",
        "\n",
        "Do NOT used the test set until now. Make sure that your model parameters and hyper-parameters are independent of the test set."
      ]
    },
    {
      "cell_type": "code",
      "execution_count": 13,
      "metadata": {
        "id": "ARHUHeK5Tl9m",
        "colab": {
          "base_uri": "https://localhost:8080/"
        },
        "outputId": "100bad79-9fbb-4295-eaa1-c4225e426aa7"
      },
      "outputs": [
        {
          "output_type": "stream",
          "name": "stdout",
          "text": [
            "313/313 [==============================] - 2s 6ms/step - loss: 3.4425 - accuracy: 0.6603\n"
          ]
        }
      ],
      "source": [
        "# Evaluate your model performance (testing accuracy) on testing data.\n",
        "test = model.evaluate(x_test,y_test_vec)\n",
        "#test accuracy is 0.6603"
      ]
    },
    {
      "cell_type": "markdown",
      "metadata": {
        "id": "ezu4qOh_Tl9m"
      },
      "source": [
        "## 6. Building model with new structure (25 points)\n",
        "- In this section, you can build your model with adding new layers (e.g, BN layer or dropout layer, ...).\n",
        "- If you want to regularize a ```Conv/Dense layer```, you should place a ```Dropout layer``` before the ```Conv/Dense layer```.\n",
        "- You can try to compare their loss curve and testing accuracy and analyze your findings.\n",
        "- You need to try at lease two different model structures."
      ]
    },
    {
      "cell_type": "markdown",
      "source": [
        "6.1 Add a Dropout layer before Dense layer\n",
        "\n",
        "\n",
        "*   In previous model, it shows a significant sign of over fitting.\n",
        "*   By the dropout technique, we can alleviate this phenomenon and gain better performance.\n",
        "\n"
      ],
      "metadata": {
        "id": "p8jx3l6iJb9K"
      }
    },
    {
      "cell_type": "code",
      "execution_count": 14,
      "metadata": {
        "id": "pc4WPnG6Tl9m",
        "colab": {
          "base_uri": "https://localhost:8080/"
        },
        "outputId": "0e87f305-0ab1-40d0-d1b3-2eae4131e128"
      },
      "outputs": [
        {
          "output_type": "stream",
          "name": "stdout",
          "text": [
            "Model: \"sequential_1\"\n",
            "_________________________________________________________________\n",
            " Layer (type)                Output Shape              Param #   \n",
            "=================================================================\n",
            " conv2d_2 (Conv2D)           (None, 30, 30, 32)        896       \n",
            "                                                                 \n",
            " max_pooling2d_2 (MaxPooling  (None, 15, 15, 32)       0         \n",
            " 2D)                                                             \n",
            "                                                                 \n",
            " conv2d_3 (Conv2D)           (None, 12, 12, 64)        32832     \n",
            "                                                                 \n",
            " max_pooling2d_3 (MaxPooling  (None, 6, 6, 64)         0         \n",
            " 2D)                                                             \n",
            "                                                                 \n",
            " flatten_1 (Flatten)         (None, 2304)              0         \n",
            "                                                                 \n",
            " dropout (Dropout)           (None, 2304)              0         \n",
            "                                                                 \n",
            " dense_2 (Dense)             (None, 256)               590080    \n",
            "                                                                 \n",
            " dense_3 (Dense)             (None, 10)                2570      \n",
            "                                                                 \n",
            "=================================================================\n",
            "Total params: 626,378\n",
            "Trainable params: 626,378\n",
            "Non-trainable params: 0\n",
            "_________________________________________________________________\n"
          ]
        }
      ],
      "source": [
        "\n",
        "model1 = models.Sequential()\n",
        "model1.add(layers.Conv2D(32,(3,3),padding='valid',activation='relu', input_shape=(32,32,3)))\n",
        "model1.add(layers.MaxPooling2D((2,2)))\n",
        "model1.add(layers.Conv2D(64,(4,4),padding='valid',activation='relu'))\n",
        "model1.add(layers.MaxPooling2D((2,2)))\n",
        "model1.add(layers.Flatten())\n",
        "model1.add(layers.Dropout(0.5))\n",
        "model1.add(layers.Dense(256,activation='relu'))\n",
        "model1.add(layers.Dense(10,activation='Softmax'))\n",
        "model1.summary()"
      ]
    },
    {
      "cell_type": "code",
      "source": [
        "#compile the model\n",
        "model1.compile(optimizers.RMSprop(learning_rate=1e-4),loss='categorical_crossentropy',metrics = 'accuracy')"
      ],
      "metadata": {
        "id": "CwcesI1srP5o"
      },
      "execution_count": 15,
      "outputs": []
    },
    {
      "cell_type": "code",
      "source": [
        "#Train the model and store model parameters/loss values\n",
        "history2 = model1.fit(x_tr, y_tr,\n",
        "                   batch_size=128, epochs=50,\n",
        "                   validation_data=(x_val, y_val))"
      ],
      "metadata": {
        "colab": {
          "base_uri": "https://localhost:8080/"
        },
        "id": "o7fiNIEbrX7a",
        "outputId": "0d194c38-adb9-4cc0-bc2e-bc0f9820482c"
      },
      "execution_count": 16,
      "outputs": [
        {
          "output_type": "stream",
          "name": "stdout",
          "text": [
            "Epoch 1/50\n",
            "313/313 [==============================] - 6s 15ms/step - loss: 6.7286 - accuracy: 0.1812 - val_loss: 2.0677 - val_accuracy: 0.2415\n",
            "Epoch 2/50\n",
            "313/313 [==============================] - 4s 13ms/step - loss: 1.9917 - accuracy: 0.2830 - val_loss: 1.7827 - val_accuracy: 0.3544\n",
            "Epoch 3/50\n",
            "313/313 [==============================] - 4s 12ms/step - loss: 1.7987 - accuracy: 0.3526 - val_loss: 1.6662 - val_accuracy: 0.4003\n",
            "Epoch 4/50\n",
            "313/313 [==============================] - 4s 13ms/step - loss: 1.7220 - accuracy: 0.3800 - val_loss: 1.6181 - val_accuracy: 0.4191\n",
            "Epoch 5/50\n",
            "313/313 [==============================] - 4s 13ms/step - loss: 1.6474 - accuracy: 0.4064 - val_loss: 1.5237 - val_accuracy: 0.4558\n",
            "Epoch 6/50\n",
            "313/313 [==============================] - 4s 13ms/step - loss: 1.6004 - accuracy: 0.4284 - val_loss: 1.5021 - val_accuracy: 0.4693\n",
            "Epoch 7/50\n",
            "313/313 [==============================] - 4s 14ms/step - loss: 1.5410 - accuracy: 0.4503 - val_loss: 1.5242 - val_accuracy: 0.4650\n",
            "Epoch 8/50\n",
            "313/313 [==============================] - 4s 12ms/step - loss: 1.5018 - accuracy: 0.4647 - val_loss: 1.4306 - val_accuracy: 0.5000\n",
            "Epoch 9/50\n",
            "313/313 [==============================] - 4s 12ms/step - loss: 1.4662 - accuracy: 0.4807 - val_loss: 1.3802 - val_accuracy: 0.5144\n",
            "Epoch 10/50\n",
            "313/313 [==============================] - 4s 13ms/step - loss: 1.4262 - accuracy: 0.4943 - val_loss: 1.3631 - val_accuracy: 0.5263\n",
            "Epoch 11/50\n",
            "313/313 [==============================] - 4s 12ms/step - loss: 1.3830 - accuracy: 0.5102 - val_loss: 1.3402 - val_accuracy: 0.5327\n",
            "Epoch 12/50\n",
            "313/313 [==============================] - 4s 12ms/step - loss: 1.3490 - accuracy: 0.5274 - val_loss: 1.2921 - val_accuracy: 0.5518\n",
            "Epoch 13/50\n",
            "313/313 [==============================] - 4s 13ms/step - loss: 1.3230 - accuracy: 0.5341 - val_loss: 1.2842 - val_accuracy: 0.5630\n",
            "Epoch 14/50\n",
            "313/313 [==============================] - 4s 12ms/step - loss: 1.2870 - accuracy: 0.5491 - val_loss: 1.4126 - val_accuracy: 0.5067\n",
            "Epoch 15/50\n",
            "313/313 [==============================] - 4s 12ms/step - loss: 1.2631 - accuracy: 0.5612 - val_loss: 1.2834 - val_accuracy: 0.5684\n",
            "Epoch 16/50\n",
            "313/313 [==============================] - 4s 12ms/step - loss: 1.2366 - accuracy: 0.5678 - val_loss: 1.2415 - val_accuracy: 0.5689\n",
            "Epoch 17/50\n",
            "313/313 [==============================] - 4s 13ms/step - loss: 1.2057 - accuracy: 0.5789 - val_loss: 1.2559 - val_accuracy: 0.5627\n",
            "Epoch 18/50\n",
            "313/313 [==============================] - 4s 13ms/step - loss: 1.1830 - accuracy: 0.5880 - val_loss: 1.1859 - val_accuracy: 0.6007\n",
            "Epoch 19/50\n",
            "313/313 [==============================] - 4s 13ms/step - loss: 1.1605 - accuracy: 0.5946 - val_loss: 1.1666 - val_accuracy: 0.6087\n",
            "Epoch 20/50\n",
            "313/313 [==============================] - 4s 13ms/step - loss: 1.1346 - accuracy: 0.6057 - val_loss: 1.1751 - val_accuracy: 0.6008\n",
            "Epoch 21/50\n",
            "313/313 [==============================] - 4s 12ms/step - loss: 1.1148 - accuracy: 0.6112 - val_loss: 1.1558 - val_accuracy: 0.6033\n",
            "Epoch 22/50\n",
            "313/313 [==============================] - 4s 13ms/step - loss: 1.0947 - accuracy: 0.6184 - val_loss: 1.1272 - val_accuracy: 0.6188\n",
            "Epoch 23/50\n",
            "313/313 [==============================] - 4s 13ms/step - loss: 1.0649 - accuracy: 0.6286 - val_loss: 1.1795 - val_accuracy: 0.6046\n",
            "Epoch 24/50\n",
            "313/313 [==============================] - 4s 12ms/step - loss: 1.0520 - accuracy: 0.6329 - val_loss: 1.1401 - val_accuracy: 0.6088\n",
            "Epoch 25/50\n",
            "313/313 [==============================] - 4s 13ms/step - loss: 1.0286 - accuracy: 0.6424 - val_loss: 1.2039 - val_accuracy: 0.6013\n",
            "Epoch 26/50\n",
            "313/313 [==============================] - 4s 12ms/step - loss: 1.0132 - accuracy: 0.6472 - val_loss: 1.1438 - val_accuracy: 0.6129\n",
            "Epoch 27/50\n",
            "313/313 [==============================] - 4s 13ms/step - loss: 0.9920 - accuracy: 0.6542 - val_loss: 1.0846 - val_accuracy: 0.6360\n",
            "Epoch 28/50\n",
            "313/313 [==============================] - 4s 13ms/step - loss: 0.9714 - accuracy: 0.6625 - val_loss: 1.0852 - val_accuracy: 0.6409\n",
            "Epoch 29/50\n",
            "313/313 [==============================] - 4s 13ms/step - loss: 0.9599 - accuracy: 0.6656 - val_loss: 1.0632 - val_accuracy: 0.6426\n",
            "Epoch 30/50\n",
            "313/313 [==============================] - 4s 13ms/step - loss: 0.9444 - accuracy: 0.6724 - val_loss: 1.1042 - val_accuracy: 0.6300\n",
            "Epoch 31/50\n",
            "313/313 [==============================] - 4s 12ms/step - loss: 0.9330 - accuracy: 0.6786 - val_loss: 1.0619 - val_accuracy: 0.6396\n",
            "Epoch 32/50\n",
            "313/313 [==============================] - 4s 13ms/step - loss: 0.9195 - accuracy: 0.6822 - val_loss: 1.0212 - val_accuracy: 0.6569\n",
            "Epoch 33/50\n",
            "313/313 [==============================] - 4s 13ms/step - loss: 0.9041 - accuracy: 0.6873 - val_loss: 1.0273 - val_accuracy: 0.6515\n",
            "Epoch 34/50\n",
            "313/313 [==============================] - 4s 12ms/step - loss: 0.8906 - accuracy: 0.6926 - val_loss: 1.0440 - val_accuracy: 0.6506\n",
            "Epoch 35/50\n",
            "313/313 [==============================] - 4s 13ms/step - loss: 0.8672 - accuracy: 0.6952 - val_loss: 1.0143 - val_accuracy: 0.6639\n",
            "Epoch 36/50\n",
            "313/313 [==============================] - 4s 12ms/step - loss: 0.8556 - accuracy: 0.7013 - val_loss: 0.9949 - val_accuracy: 0.6683\n",
            "Epoch 37/50\n",
            "313/313 [==============================] - 4s 13ms/step - loss: 0.8394 - accuracy: 0.7105 - val_loss: 1.1305 - val_accuracy: 0.6198\n",
            "Epoch 38/50\n",
            "313/313 [==============================] - 4s 13ms/step - loss: 0.8367 - accuracy: 0.7093 - val_loss: 0.9731 - val_accuracy: 0.6736\n",
            "Epoch 39/50\n",
            "313/313 [==============================] - 4s 13ms/step - loss: 0.8246 - accuracy: 0.7131 - val_loss: 1.0015 - val_accuracy: 0.6674\n",
            "Epoch 40/50\n",
            "313/313 [==============================] - 4s 13ms/step - loss: 0.8155 - accuracy: 0.7169 - val_loss: 0.9940 - val_accuracy: 0.6714\n",
            "Epoch 41/50\n",
            "313/313 [==============================] - 4s 13ms/step - loss: 0.7949 - accuracy: 0.7261 - val_loss: 0.9800 - val_accuracy: 0.6739\n",
            "Epoch 42/50\n",
            "313/313 [==============================] - 4s 12ms/step - loss: 0.7845 - accuracy: 0.7284 - val_loss: 0.9669 - val_accuracy: 0.6807\n",
            "Epoch 43/50\n",
            "313/313 [==============================] - 4s 13ms/step - loss: 0.7810 - accuracy: 0.7283 - val_loss: 1.1087 - val_accuracy: 0.6366\n",
            "Epoch 44/50\n",
            "313/313 [==============================] - 4s 13ms/step - loss: 0.7575 - accuracy: 0.7372 - val_loss: 1.0690 - val_accuracy: 0.6405\n",
            "Epoch 45/50\n",
            "313/313 [==============================] - 4s 13ms/step - loss: 0.7480 - accuracy: 0.7420 - val_loss: 0.9601 - val_accuracy: 0.6817\n",
            "Epoch 46/50\n",
            "313/313 [==============================] - 4s 12ms/step - loss: 0.7399 - accuracy: 0.7426 - val_loss: 0.9826 - val_accuracy: 0.6686\n",
            "Epoch 47/50\n",
            "313/313 [==============================] - 4s 12ms/step - loss: 0.7310 - accuracy: 0.7461 - val_loss: 0.9458 - val_accuracy: 0.6916\n",
            "Epoch 48/50\n",
            "313/313 [==============================] - 4s 13ms/step - loss: 0.7185 - accuracy: 0.7516 - val_loss: 0.9296 - val_accuracy: 0.6902\n",
            "Epoch 49/50\n",
            "313/313 [==============================] - 4s 13ms/step - loss: 0.7133 - accuracy: 0.7522 - val_loss: 0.9544 - val_accuracy: 0.6831\n",
            "Epoch 50/50\n",
            "313/313 [==============================] - 4s 13ms/step - loss: 0.6963 - accuracy: 0.7577 - val_loss: 0.9429 - val_accuracy: 0.6865\n"
          ]
        }
      ]
    },
    {
      "cell_type": "code",
      "source": [
        "#Recompile the model\n",
        "model1.compile(optimizers.RMSprop(learning_rate=1e-4),loss='categorical_crossentropy',metrics = 'accuracy')"
      ],
      "metadata": {
        "id": "0g0BrNEnJ7D5"
      },
      "execution_count": 17,
      "outputs": []
    },
    {
      "cell_type": "code",
      "source": [
        "#<Train the model on the entire training set \n",
        "history1x = model1.fit(x_train, y_train_vec,\n",
        "                   batch_size=128, epochs=50)"
      ],
      "metadata": {
        "colab": {
          "base_uri": "https://localhost:8080/"
        },
        "id": "JzdhXFrFKEwg",
        "outputId": "bb3c273b-7dff-4f49-efce-24067d48b0ec"
      },
      "execution_count": 18,
      "outputs": [
        {
          "output_type": "stream",
          "name": "stdout",
          "text": [
            "Epoch 1/50\n",
            "391/391 [==============================] - 6s 12ms/step - loss: 0.8021 - accuracy: 0.7305\n",
            "Epoch 2/50\n",
            "391/391 [==============================] - 4s 11ms/step - loss: 0.7721 - accuracy: 0.7378\n",
            "Epoch 3/50\n",
            "391/391 [==============================] - 4s 11ms/step - loss: 0.7580 - accuracy: 0.7416\n",
            "Epoch 4/50\n",
            "391/391 [==============================] - 4s 11ms/step - loss: 0.7508 - accuracy: 0.7429\n",
            "Epoch 5/50\n",
            "391/391 [==============================] - 4s 11ms/step - loss: 0.7284 - accuracy: 0.7516\n",
            "Epoch 6/50\n",
            "391/391 [==============================] - 4s 11ms/step - loss: 0.7218 - accuracy: 0.7541\n",
            "Epoch 7/50\n",
            "391/391 [==============================] - 4s 11ms/step - loss: 0.7112 - accuracy: 0.7573\n",
            "Epoch 8/50\n",
            "391/391 [==============================] - 4s 11ms/step - loss: 0.6971 - accuracy: 0.7625\n",
            "Epoch 9/50\n",
            "391/391 [==============================] - 4s 11ms/step - loss: 0.6847 - accuracy: 0.7630\n",
            "Epoch 10/50\n",
            "391/391 [==============================] - 4s 11ms/step - loss: 0.6767 - accuracy: 0.7678\n",
            "Epoch 11/50\n",
            "391/391 [==============================] - 4s 11ms/step - loss: 0.6653 - accuracy: 0.7722\n",
            "Epoch 12/50\n",
            "391/391 [==============================] - 4s 11ms/step - loss: 0.6558 - accuracy: 0.7731\n",
            "Epoch 13/50\n",
            "391/391 [==============================] - 4s 11ms/step - loss: 0.6491 - accuracy: 0.7766\n",
            "Epoch 14/50\n",
            "391/391 [==============================] - 4s 11ms/step - loss: 0.6425 - accuracy: 0.7784\n",
            "Epoch 15/50\n",
            "391/391 [==============================] - 4s 11ms/step - loss: 0.6313 - accuracy: 0.7821\n",
            "Epoch 16/50\n",
            "391/391 [==============================] - 4s 11ms/step - loss: 0.6241 - accuracy: 0.7853\n",
            "Epoch 17/50\n",
            "391/391 [==============================] - 4s 11ms/step - loss: 0.6138 - accuracy: 0.7888\n",
            "Epoch 18/50\n",
            "391/391 [==============================] - 4s 11ms/step - loss: 0.6033 - accuracy: 0.7905\n",
            "Epoch 19/50\n",
            "391/391 [==============================] - 6s 14ms/step - loss: 0.5973 - accuracy: 0.7940\n",
            "Epoch 20/50\n",
            "391/391 [==============================] - 7s 19ms/step - loss: 0.5901 - accuracy: 0.7951\n",
            "Epoch 21/50\n",
            "391/391 [==============================] - 7s 18ms/step - loss: 0.5800 - accuracy: 0.7986\n",
            "Epoch 22/50\n",
            "391/391 [==============================] - 7s 18ms/step - loss: 0.5720 - accuracy: 0.8024\n",
            "Epoch 23/50\n",
            "391/391 [==============================] - 6s 15ms/step - loss: 0.5648 - accuracy: 0.8054\n",
            "Epoch 24/50\n",
            "391/391 [==============================] - 4s 11ms/step - loss: 0.5612 - accuracy: 0.8050\n",
            "Epoch 25/50\n",
            "391/391 [==============================] - 4s 11ms/step - loss: 0.5490 - accuracy: 0.8093\n",
            "Epoch 26/50\n",
            "391/391 [==============================] - 4s 11ms/step - loss: 0.5436 - accuracy: 0.8110\n",
            "Epoch 27/50\n",
            "391/391 [==============================] - 4s 11ms/step - loss: 0.5403 - accuracy: 0.8106\n",
            "Epoch 28/50\n",
            "391/391 [==============================] - 4s 11ms/step - loss: 0.5326 - accuracy: 0.8144\n",
            "Epoch 29/50\n",
            "391/391 [==============================] - 4s 11ms/step - loss: 0.5235 - accuracy: 0.8189\n",
            "Epoch 30/50\n",
            "391/391 [==============================] - 4s 11ms/step - loss: 0.5222 - accuracy: 0.8186\n",
            "Epoch 31/50\n",
            "391/391 [==============================] - 5s 12ms/step - loss: 0.5142 - accuracy: 0.8228\n",
            "Epoch 32/50\n",
            "391/391 [==============================] - 6s 15ms/step - loss: 0.5083 - accuracy: 0.8234\n",
            "Epoch 33/50\n",
            "391/391 [==============================] - 4s 11ms/step - loss: 0.4992 - accuracy: 0.8277\n",
            "Epoch 34/50\n",
            "391/391 [==============================] - 4s 11ms/step - loss: 0.4988 - accuracy: 0.8254\n",
            "Epoch 35/50\n",
            "391/391 [==============================] - 4s 11ms/step - loss: 0.4951 - accuracy: 0.8291\n",
            "Epoch 36/50\n",
            "391/391 [==============================] - 4s 11ms/step - loss: 0.4785 - accuracy: 0.8332\n",
            "Epoch 37/50\n",
            "391/391 [==============================] - 4s 11ms/step - loss: 0.4778 - accuracy: 0.8339\n",
            "Epoch 38/50\n",
            "391/391 [==============================] - 4s 11ms/step - loss: 0.4740 - accuracy: 0.8359\n",
            "Epoch 39/50\n",
            "391/391 [==============================] - 4s 11ms/step - loss: 0.4686 - accuracy: 0.8381\n",
            "Epoch 40/50\n",
            "391/391 [==============================] - 4s 11ms/step - loss: 0.4545 - accuracy: 0.8424\n",
            "Epoch 41/50\n",
            "391/391 [==============================] - 4s 11ms/step - loss: 0.4546 - accuracy: 0.8434\n",
            "Epoch 42/50\n",
            "391/391 [==============================] - 4s 11ms/step - loss: 0.4504 - accuracy: 0.8436\n",
            "Epoch 43/50\n",
            "391/391 [==============================] - 4s 11ms/step - loss: 0.4446 - accuracy: 0.8456\n",
            "Epoch 44/50\n",
            "391/391 [==============================] - 4s 11ms/step - loss: 0.4420 - accuracy: 0.8461\n",
            "Epoch 45/50\n",
            "391/391 [==============================] - 5s 12ms/step - loss: 0.4342 - accuracy: 0.8513\n",
            "Epoch 46/50\n",
            "391/391 [==============================] - 4s 11ms/step - loss: 0.4301 - accuracy: 0.8519\n",
            "Epoch 47/50\n",
            "391/391 [==============================] - 4s 11ms/step - loss: 0.4290 - accuracy: 0.8499\n",
            "Epoch 48/50\n",
            "391/391 [==============================] - 5s 12ms/step - loss: 0.4252 - accuracy: 0.8521\n",
            "Epoch 49/50\n",
            "391/391 [==============================] - 4s 11ms/step - loss: 0.4173 - accuracy: 0.8539\n",
            "Epoch 50/50\n",
            "391/391 [==============================] - 4s 11ms/step - loss: 0.4164 - accuracy: 0.8550\n"
          ]
        }
      ]
    },
    {
      "cell_type": "code",
      "source": [
        "model1.evaluate(x_test,y_test_vec)\n",
        "#The test accuracy is 0.7232"
      ],
      "metadata": {
        "colab": {
          "base_uri": "https://localhost:8080/"
        },
        "id": "9amvGZ2hObUU",
        "outputId": "56d1b126-eb62-4b53-bd45-ec8abd8b8f1d"
      },
      "execution_count": 19,
      "outputs": [
        {
          "output_type": "stream",
          "name": "stdout",
          "text": [
            "313/313 [==============================] - 2s 5ms/step - loss: 0.9024 - accuracy: 0.7232\n"
          ]
        },
        {
          "output_type": "execute_result",
          "data": {
            "text/plain": [
              "[0.9023768305778503, 0.7232000231742859]"
            ]
          },
          "metadata": {},
          "execution_count": 19
        }
      ]
    },
    {
      "cell_type": "code",
      "source": [
        "# Plot the accuracy curve\n",
        "import matplotlib.pyplot as plt\n",
        "%matplotlib inline\n",
        "\n",
        "epochs = range(50)\n",
        "train_acc = history2.history['accuracy']\n",
        "val_acc = history2.history['val_accuracy']\n",
        "plt.plot(epochs, train_acc, 'go', label = 'Training Accuracy')\n",
        "plt.plot(epochs, val_acc, 'r', label = 'validation Accuracy')\n",
        "plt.xlabel('Epochs')\n",
        "plt.ylabel('Loss')\n",
        "plt.legend()\n",
        "plt.show()"
      ],
      "metadata": {
        "colab": {
          "base_uri": "https://localhost:8080/",
          "height": 279
        },
        "id": "ofWINXsjsO9X",
        "outputId": "1b64899b-30f9-4330-85b7-e3830d0ecc9e"
      },
      "execution_count": 24,
      "outputs": [
        {
          "output_type": "display_data",
          "data": {
            "text/plain": [
              "<Figure size 432x288 with 1 Axes>"
            ],
            "image/png": "[encoded data removed]"
          },
          "metadata": {
            "needs_background": "light"
          }
        }
      ]
    },
    {
      "cell_type": "code",
      "source": [
        "# Plot the loss curve\n",
        "import matplotlib.pyplot as plt\n",
        "%matplotlib inline\n",
        "epochs = range(50)\n",
        "train_loss = history2.history['loss']\n",
        "val_loss = history2.history['val_loss']\n",
        "plt.plot(epochs, train_loss, 'go', label = 'Training Loss')\n",
        "plt.plot(epochs, val_loss, 'r', label = 'validation Loss')\n",
        "plt.xlabel('Epochs')\n",
        "plt.ylabel('Loss')\n",
        "plt.legend()\n",
        "plt.show()"
      ],
      "metadata": {
        "colab": {
          "base_uri": "https://localhost:8080/",
          "height": 282
        },
        "id": "kz8FU58-shuK",
        "outputId": "81a59e61-35c6-43f7-a312-8750ac1b763a"
      },
      "execution_count": 25,
      "outputs": [
        {
          "output_type": "display_data",
          "data": {
            "text/plain": [
              "<Figure size 432x288 with 1 Axes>"
            ],
            "image/png": "[encoded data removed]"
          },
          "metadata": {
            "needs_background": "light"
          }
        }
      ]
    },
    {
      "cell_type": "markdown",
      "source": [
        "6.2 Add a dropout layers before Conv layer\n",
        "\n"
      ],
      "metadata": {
        "id": "3KLN9_nxPfyK"
      }
    },
    {
      "cell_type": "code",
      "source": [
        "model2 = models.Sequential()\n",
        "model2.add(layers.Conv2D(32,(3,3),padding='valid',activation='relu', input_shape=(32,32,3)))\n",
        "model2.add(layers.MaxPooling2D((2,2)))\n",
        "model2.add(layers.Dropout(0.5))\n",
        "model2.add(layers.Conv2D(64,(4,4),padding='valid',activation='relu'))\n",
        "model2.add(layers.MaxPooling2D((2,2)))\n",
        "model2.add(layers.Flatten())\n",
        "model2.add(layers.Dense(256,activation='relu'))\n",
        "model2.add(layers.Dense(10,activation='Softmax'))\n",
        "model2.summary()"
      ],
      "metadata": {
        "colab": {
          "base_uri": "https://localhost:8080/"
        },
        "id": "Kt8IuWRZs8sa",
        "outputId": "e645027e-d167-40ca-8c8a-a9da04995dae"
      },
      "execution_count": 27,
      "outputs": [
        {
          "output_type": "stream",
          "name": "stdout",
          "text": [
            "Model: \"sequential_3\"\n",
            "_________________________________________________________________\n",
            " Layer (type)                Output Shape              Param #   \n",
            "=================================================================\n",
            " conv2d_6 (Conv2D)           (None, 30, 30, 32)        896       \n",
            "                                                                 \n",
            " max_pooling2d_6 (MaxPooling  (None, 15, 15, 32)       0         \n",
            " 2D)                                                             \n",
            "                                                                 \n",
            " dropout_2 (Dropout)         (None, 15, 15, 32)        0         \n",
            "                                                                 \n",
            " conv2d_7 (Conv2D)           (None, 12, 12, 64)        32832     \n",
            "                                                                 \n",
            " max_pooling2d_7 (MaxPooling  (None, 6, 6, 64)         0         \n",
            " 2D)                                                             \n",
            "                                                                 \n",
            " flatten_3 (Flatten)         (None, 2304)              0         \n",
            "                                                                 \n",
            " dense_6 (Dense)             (None, 256)               590080    \n",
            "                                                                 \n",
            " dense_7 (Dense)             (None, 10)                2570      \n",
            "                                                                 \n",
            "=================================================================\n",
            "Total params: 626,378\n",
            "Trainable params: 626,378\n",
            "Non-trainable params: 0\n",
            "_________________________________________________________________\n"
          ]
        }
      ]
    },
    {
      "cell_type": "code",
      "source": [
        "model2.compile(optimizers.RMSprop(learning_rate=1e-4),loss='categorical_crossentropy',metrics = 'accuracy')"
      ],
      "metadata": {
        "id": "ys2BpCDitrAE"
      },
      "execution_count": 28,
      "outputs": []
    },
    {
      "cell_type": "code",
      "source": [
        "history3 = model2.fit(x_tr, y_tr,\n",
        "                   batch_size=128, epochs=50,\n",
        "                   validation_data=(x_val, y_val))"
      ],
      "metadata": {
        "colab": {
          "base_uri": "https://localhost:8080/"
        },
        "id": "9uFjOUpFtzfA",
        "outputId": "d3af23a8-62a4-40ff-f8b9-ef74cef4a35a"
      },
      "execution_count": 29,
      "outputs": [
        {
          "output_type": "stream",
          "name": "stdout",
          "text": [
            "Epoch 1/50\n",
            "313/313 [==============================] - 6s 15ms/step - loss: 12.7191 - accuracy: 0.1154 - val_loss: 2.2994 - val_accuracy: 0.0978\n",
            "Epoch 2/50\n",
            "313/313 [==============================] - 4s 13ms/step - loss: 2.2527 - accuracy: 0.1426 - val_loss: 2.1392 - val_accuracy: 0.1715\n",
            "Epoch 3/50\n",
            "313/313 [==============================] - 4s 13ms/step - loss: 1.9770 - accuracy: 0.2350 - val_loss: 1.8367 - val_accuracy: 0.3001\n",
            "Epoch 4/50\n",
            "313/313 [==============================] - 4s 14ms/step - loss: 1.7856 - accuracy: 0.3198 - val_loss: 1.7023 - val_accuracy: 0.3646\n",
            "Epoch 5/50\n",
            "313/313 [==============================] - 4s 13ms/step - loss: 1.6623 - accuracy: 0.3800 - val_loss: 1.6368 - val_accuracy: 0.3940\n",
            "Epoch 6/50\n",
            "313/313 [==============================] - 4s 13ms/step - loss: 1.5758 - accuracy: 0.4232 - val_loss: 1.5988 - val_accuracy: 0.4009\n",
            "Epoch 7/50\n",
            "313/313 [==============================] - 4s 13ms/step - loss: 1.5119 - accuracy: 0.4498 - val_loss: 1.6843 - val_accuracy: 0.3760\n",
            "Epoch 8/50\n",
            "313/313 [==============================] - 4s 14ms/step - loss: 1.4545 - accuracy: 0.4728 - val_loss: 1.5301 - val_accuracy: 0.4370\n",
            "Epoch 9/50\n",
            "313/313 [==============================] - 4s 13ms/step - loss: 1.4056 - accuracy: 0.4961 - val_loss: 1.5739 - val_accuracy: 0.4185\n",
            "Epoch 10/50\n",
            "313/313 [==============================] - 4s 13ms/step - loss: 1.3629 - accuracy: 0.5138 - val_loss: 1.4867 - val_accuracy: 0.4647\n",
            "Epoch 11/50\n",
            "313/313 [==============================] - 4s 13ms/step - loss: 1.3181 - accuracy: 0.5340 - val_loss: 1.3786 - val_accuracy: 0.5138\n",
            "Epoch 12/50\n",
            "313/313 [==============================] - 4s 13ms/step - loss: 1.2793 - accuracy: 0.5442 - val_loss: 1.4109 - val_accuracy: 0.4976\n",
            "Epoch 13/50\n",
            "313/313 [==============================] - 4s 13ms/step - loss: 1.2486 - accuracy: 0.5584 - val_loss: 1.4064 - val_accuracy: 0.5008\n",
            "Epoch 14/50\n",
            "313/313 [==============================] - 4s 13ms/step - loss: 1.2193 - accuracy: 0.5675 - val_loss: 1.3775 - val_accuracy: 0.5125\n",
            "Epoch 15/50\n",
            "313/313 [==============================] - 4s 13ms/step - loss: 1.1886 - accuracy: 0.5773 - val_loss: 1.2733 - val_accuracy: 0.5550\n",
            "Epoch 16/50\n",
            "313/313 [==============================] - 4s 13ms/step - loss: 1.1602 - accuracy: 0.5906 - val_loss: 1.2500 - val_accuracy: 0.5690\n",
            "Epoch 17/50\n",
            "313/313 [==============================] - 4s 13ms/step - loss: 1.1363 - accuracy: 0.6009 - val_loss: 1.2846 - val_accuracy: 0.5492\n",
            "Epoch 18/50\n",
            "313/313 [==============================] - 4s 13ms/step - loss: 1.1114 - accuracy: 0.6071 - val_loss: 1.2565 - val_accuracy: 0.5625\n",
            "Epoch 19/50\n",
            "313/313 [==============================] - 4s 13ms/step - loss: 1.0922 - accuracy: 0.6178 - val_loss: 1.1985 - val_accuracy: 0.5846\n",
            "Epoch 20/50\n",
            "313/313 [==============================] - 4s 13ms/step - loss: 1.0673 - accuracy: 0.6249 - val_loss: 1.1732 - val_accuracy: 0.5882\n",
            "Epoch 21/50\n",
            "313/313 [==============================] - 4s 13ms/step - loss: 1.0445 - accuracy: 0.6341 - val_loss: 1.1724 - val_accuracy: 0.5863\n",
            "Epoch 22/50\n",
            "313/313 [==============================] - 4s 13ms/step - loss: 1.0225 - accuracy: 0.6419 - val_loss: 1.1284 - val_accuracy: 0.6055\n",
            "Epoch 23/50\n",
            "313/313 [==============================] - 4s 13ms/step - loss: 1.0099 - accuracy: 0.6437 - val_loss: 1.1523 - val_accuracy: 0.5925\n",
            "Epoch 24/50\n",
            "313/313 [==============================] - 4s 13ms/step - loss: 0.9936 - accuracy: 0.6516 - val_loss: 1.1379 - val_accuracy: 0.5997\n",
            "Epoch 25/50\n",
            "313/313 [==============================] - 4s 14ms/step - loss: 0.9742 - accuracy: 0.6592 - val_loss: 1.1852 - val_accuracy: 0.5830\n",
            "Epoch 26/50\n",
            "313/313 [==============================] - 4s 13ms/step - loss: 0.9540 - accuracy: 0.6658 - val_loss: 1.0916 - val_accuracy: 0.6228\n",
            "Epoch 27/50\n",
            "313/313 [==============================] - 4s 13ms/step - loss: 0.9399 - accuracy: 0.6722 - val_loss: 1.0768 - val_accuracy: 0.6242\n",
            "Epoch 28/50\n",
            "313/313 [==============================] - 4s 13ms/step - loss: 0.9305 - accuracy: 0.6752 - val_loss: 1.0844 - val_accuracy: 0.6174\n",
            "Epoch 29/50\n",
            "313/313 [==============================] - 4s 14ms/step - loss: 0.9130 - accuracy: 0.6814 - val_loss: 1.1092 - val_accuracy: 0.6166\n",
            "Epoch 30/50\n",
            "313/313 [==============================] - 4s 13ms/step - loss: 0.8924 - accuracy: 0.6866 - val_loss: 1.0932 - val_accuracy: 0.6188\n",
            "Epoch 31/50\n",
            "313/313 [==============================] - 4s 14ms/step - loss: 0.8796 - accuracy: 0.6934 - val_loss: 1.1967 - val_accuracy: 0.5899\n",
            "Epoch 32/50\n",
            "313/313 [==============================] - 4s 14ms/step - loss: 0.8656 - accuracy: 0.6967 - val_loss: 1.0922 - val_accuracy: 0.6210\n",
            "Epoch 33/50\n",
            "313/313 [==============================] - 4s 14ms/step - loss: 0.8524 - accuracy: 0.7021 - val_loss: 1.0824 - val_accuracy: 0.6279\n",
            "Epoch 34/50\n",
            "313/313 [==============================] - 4s 14ms/step - loss: 0.8427 - accuracy: 0.7059 - val_loss: 1.0668 - val_accuracy: 0.6304\n",
            "Epoch 35/50\n",
            "313/313 [==============================] - 4s 14ms/step - loss: 0.8291 - accuracy: 0.7115 - val_loss: 1.0730 - val_accuracy: 0.6301\n",
            "Epoch 36/50\n",
            "313/313 [==============================] - 4s 14ms/step - loss: 0.8163 - accuracy: 0.7171 - val_loss: 1.0075 - val_accuracy: 0.6559\n",
            "Epoch 37/50\n",
            "313/313 [==============================] - 4s 13ms/step - loss: 0.8046 - accuracy: 0.7200 - val_loss: 1.0376 - val_accuracy: 0.6446\n",
            "Epoch 38/50\n",
            "313/313 [==============================] - 4s 14ms/step - loss: 0.7925 - accuracy: 0.7262 - val_loss: 0.9954 - val_accuracy: 0.6536\n",
            "Epoch 39/50\n",
            "313/313 [==============================] - 4s 14ms/step - loss: 0.7750 - accuracy: 0.7311 - val_loss: 1.0502 - val_accuracy: 0.6438\n",
            "Epoch 40/50\n",
            "313/313 [==============================] - 4s 13ms/step - loss: 0.7656 - accuracy: 0.7352 - val_loss: 1.0709 - val_accuracy: 0.6379\n",
            "Epoch 41/50\n",
            "313/313 [==============================] - 4s 13ms/step - loss: 0.7591 - accuracy: 0.7373 - val_loss: 0.9580 - val_accuracy: 0.6723\n",
            "Epoch 42/50\n",
            "313/313 [==============================] - 4s 13ms/step - loss: 0.7479 - accuracy: 0.7400 - val_loss: 1.0635 - val_accuracy: 0.6436\n",
            "Epoch 43/50\n",
            "313/313 [==============================] - 4s 14ms/step - loss: 0.7372 - accuracy: 0.7461 - val_loss: 0.9735 - val_accuracy: 0.6655\n",
            "Epoch 44/50\n",
            "313/313 [==============================] - 4s 13ms/step - loss: 0.7294 - accuracy: 0.7448 - val_loss: 0.9586 - val_accuracy: 0.6676\n",
            "Epoch 45/50\n",
            "313/313 [==============================] - 5s 17ms/step - loss: 0.7133 - accuracy: 0.7539 - val_loss: 0.9861 - val_accuracy: 0.6615\n",
            "Epoch 46/50\n",
            "313/313 [==============================] - 5s 16ms/step - loss: 0.7113 - accuracy: 0.7514 - val_loss: 0.9628 - val_accuracy: 0.6718\n",
            "Epoch 47/50\n",
            "313/313 [==============================] - 5s 15ms/step - loss: 0.6894 - accuracy: 0.7605 - val_loss: 0.9962 - val_accuracy: 0.6567\n",
            "Epoch 48/50\n",
            "313/313 [==============================] - 4s 13ms/step - loss: 0.6867 - accuracy: 0.7609 - val_loss: 0.9496 - val_accuracy: 0.6714\n",
            "Epoch 49/50\n",
            "313/313 [==============================] - 4s 13ms/step - loss: 0.6755 - accuracy: 0.7659 - val_loss: 0.9582 - val_accuracy: 0.6702\n",
            "Epoch 50/50\n",
            "313/313 [==============================] - 4s 14ms/step - loss: 0.6659 - accuracy: 0.7694 - val_loss: 1.0047 - val_accuracy: 0.6601\n"
          ]
        }
      ]
    },
    {
      "cell_type": "code",
      "source": [
        "#Recompile the model\n",
        "model2.compile(optimizers.RMSprop(learning_rate=1e-4),loss='categorical_crossentropy',metrics = 'accuracy')"
      ],
      "metadata": {
        "id": "20MiHQkuRZdU"
      },
      "execution_count": 30,
      "outputs": []
    },
    {
      "cell_type": "code",
      "source": [
        "#<Train the model on the entire training set \n",
        "history3x = model2.fit(x_train, y_train_vec,\n",
        "                   batch_size=128, epochs=50)"
      ],
      "metadata": {
        "colab": {
          "base_uri": "https://localhost:8080/"
        },
        "id": "J9BISQLTRhKQ",
        "outputId": "a2314816-d194-4f76-d50f-66fa691c7c3d"
      },
      "execution_count": 31,
      "outputs": [
        {
          "output_type": "stream",
          "name": "stdout",
          "text": [
            "Epoch 1/50\n",
            "391/391 [==============================] - 5s 12ms/step - loss: 0.7425 - accuracy: 0.7503\n",
            "Epoch 2/50\n",
            "391/391 [==============================] - 5s 12ms/step - loss: 0.7129 - accuracy: 0.7555\n",
            "Epoch 3/50\n",
            "391/391 [==============================] - 5s 12ms/step - loss: 0.7105 - accuracy: 0.7584\n",
            "Epoch 4/50\n",
            "391/391 [==============================] - 5s 12ms/step - loss: 0.6957 - accuracy: 0.7619\n",
            "Epoch 5/50\n",
            "391/391 [==============================] - 5s 12ms/step - loss: 0.6835 - accuracy: 0.7656\n",
            "Epoch 6/50\n",
            "391/391 [==============================] - 5s 12ms/step - loss: 0.6724 - accuracy: 0.7698\n",
            "Epoch 7/50\n",
            "391/391 [==============================] - 5s 12ms/step - loss: 0.6591 - accuracy: 0.7752\n",
            "Epoch 8/50\n",
            "391/391 [==============================] - 5s 12ms/step - loss: 0.6492 - accuracy: 0.7768\n",
            "Epoch 9/50\n",
            "391/391 [==============================] - 4s 11ms/step - loss: 0.6397 - accuracy: 0.7800\n",
            "Epoch 10/50\n",
            "391/391 [==============================] - 4s 11ms/step - loss: 0.6306 - accuracy: 0.7845\n",
            "Epoch 11/50\n",
            "391/391 [==============================] - 4s 11ms/step - loss: 0.6247 - accuracy: 0.7848\n",
            "Epoch 12/50\n",
            "391/391 [==============================] - 5s 12ms/step - loss: 0.6155 - accuracy: 0.7887\n",
            "Epoch 13/50\n",
            "391/391 [==============================] - 5s 12ms/step - loss: 0.6037 - accuracy: 0.7922\n",
            "Epoch 14/50\n",
            "391/391 [==============================] - 5s 13ms/step - loss: 0.5930 - accuracy: 0.7956\n",
            "Epoch 15/50\n",
            "391/391 [==============================] - 4s 11ms/step - loss: 0.5882 - accuracy: 0.7968\n",
            "Epoch 16/50\n",
            "391/391 [==============================] - 5s 12ms/step - loss: 0.5756 - accuracy: 0.8015\n",
            "Epoch 17/50\n",
            "391/391 [==============================] - 5s 12ms/step - loss: 0.5675 - accuracy: 0.8044\n",
            "Epoch 18/50\n",
            "391/391 [==============================] - 5s 12ms/step - loss: 0.5588 - accuracy: 0.8085\n",
            "Epoch 19/50\n",
            "391/391 [==============================] - 5s 12ms/step - loss: 0.5577 - accuracy: 0.8075\n",
            "Epoch 20/50\n",
            "391/391 [==============================] - 5s 12ms/step - loss: 0.5481 - accuracy: 0.8111\n",
            "Epoch 21/50\n",
            "391/391 [==============================] - 5s 12ms/step - loss: 0.5453 - accuracy: 0.8118\n",
            "Epoch 22/50\n",
            "391/391 [==============================] - 5s 14ms/step - loss: 0.5296 - accuracy: 0.8173\n",
            "Epoch 23/50\n",
            "391/391 [==============================] - 6s 15ms/step - loss: 0.5251 - accuracy: 0.8168\n",
            "Epoch 24/50\n",
            "391/391 [==============================] - 5s 14ms/step - loss: 0.5151 - accuracy: 0.8211\n",
            "Epoch 25/50\n",
            "391/391 [==============================] - 5s 12ms/step - loss: 0.5092 - accuracy: 0.8231\n",
            "Epoch 26/50\n",
            "391/391 [==============================] - 5s 12ms/step - loss: 0.5035 - accuracy: 0.8256\n",
            "Epoch 27/50\n",
            "391/391 [==============================] - 4s 11ms/step - loss: 0.4969 - accuracy: 0.8285\n",
            "Epoch 28/50\n",
            "391/391 [==============================] - 5s 12ms/step - loss: 0.4903 - accuracy: 0.8277\n",
            "Epoch 29/50\n",
            "391/391 [==============================] - 4s 11ms/step - loss: 0.4843 - accuracy: 0.8324\n",
            "Epoch 30/50\n",
            "391/391 [==============================] - 5s 13ms/step - loss: 0.4756 - accuracy: 0.8349\n",
            "Epoch 31/50\n",
            "391/391 [==============================] - 4s 11ms/step - loss: 0.4730 - accuracy: 0.8353\n",
            "Epoch 32/50\n",
            "391/391 [==============================] - 5s 12ms/step - loss: 0.4618 - accuracy: 0.8391\n",
            "Epoch 33/50\n",
            "391/391 [==============================] - 5s 14ms/step - loss: 0.4526 - accuracy: 0.8425\n",
            "Epoch 34/50\n",
            "391/391 [==============================] - 5s 13ms/step - loss: 0.4525 - accuracy: 0.8436\n",
            "Epoch 35/50\n",
            "391/391 [==============================] - 6s 15ms/step - loss: 0.4485 - accuracy: 0.8428\n",
            "Epoch 36/50\n",
            "391/391 [==============================] - 5s 13ms/step - loss: 0.4383 - accuracy: 0.8488\n",
            "Epoch 37/50\n",
            "391/391 [==============================] - 5s 12ms/step - loss: 0.4354 - accuracy: 0.8501\n",
            "Epoch 38/50\n",
            "391/391 [==============================] - 4s 11ms/step - loss: 0.4304 - accuracy: 0.8496\n",
            "Epoch 39/50\n",
            "391/391 [==============================] - 5s 13ms/step - loss: 0.4237 - accuracy: 0.8540\n",
            "Epoch 40/50\n",
            "391/391 [==============================] - 5s 13ms/step - loss: 0.4191 - accuracy: 0.8559\n",
            "Epoch 41/50\n",
            "391/391 [==============================] - 5s 12ms/step - loss: 0.4181 - accuracy: 0.8551\n",
            "Epoch 42/50\n",
            "391/391 [==============================] - 5s 12ms/step - loss: 0.4116 - accuracy: 0.8571\n",
            "Epoch 43/50\n",
            "391/391 [==============================] - 5s 12ms/step - loss: 0.4030 - accuracy: 0.8605\n",
            "Epoch 44/50\n",
            "391/391 [==============================] - 5s 12ms/step - loss: 0.3998 - accuracy: 0.8613\n",
            "Epoch 45/50\n",
            "391/391 [==============================] - 5s 12ms/step - loss: 0.3949 - accuracy: 0.8637\n",
            "Epoch 46/50\n",
            "391/391 [==============================] - 5s 12ms/step - loss: 0.3925 - accuracy: 0.8613\n",
            "Epoch 47/50\n",
            "391/391 [==============================] - 5s 12ms/step - loss: 0.3850 - accuracy: 0.8642\n",
            "Epoch 48/50\n",
            "391/391 [==============================] - 5s 12ms/step - loss: 0.3769 - accuracy: 0.8686\n",
            "Epoch 49/50\n",
            "391/391 [==============================] - 5s 12ms/step - loss: 0.3742 - accuracy: 0.8703\n",
            "Epoch 50/50\n",
            "391/391 [==============================] - 5s 12ms/step - loss: 0.3705 - accuracy: 0.8724\n"
          ]
        }
      ]
    },
    {
      "cell_type": "code",
      "source": [
        "model2.evaluate(x_test,y_test_vec)\n",
        "#the test acc is 0.7133"
      ],
      "metadata": {
        "colab": {
          "base_uri": "https://localhost:8080/"
        },
        "id": "JfXbwhtvS3ai",
        "outputId": "bbda8dde-3f1e-4efd-bda6-44d6a1d650cf"
      },
      "execution_count": 35,
      "outputs": [
        {
          "output_type": "stream",
          "name": "stdout",
          "text": [
            "313/313 [==============================] - 2s 5ms/step - loss: 1.0035 - accuracy: 0.7133\n"
          ]
        },
        {
          "output_type": "execute_result",
          "data": {
            "text/plain": [
              "[1.0035377740859985, 0.7132999897003174]"
            ]
          },
          "metadata": {},
          "execution_count": 35
        }
      ]
    },
    {
      "cell_type": "code",
      "source": [
        "# Plot the accuracy curve\n",
        "import matplotlib.pyplot as plt\n",
        "%matplotlib inline\n",
        "\n",
        "epochs = range(50)\n",
        "train_acc = history3.history['accuracy']\n",
        "val_acc = history3.history['val_accuracy']\n",
        "plt.plot(epochs, train_acc, 'go', label = 'Training Accuracy')\n",
        "plt.plot(epochs, val_acc, 'r', label = 'Validation Accuracy')\n",
        "plt.xlabel('Epochs')\n",
        "plt.ylabel('Loss')\n",
        "plt.legend()\n",
        "plt.show()"
      ],
      "metadata": {
        "colab": {
          "base_uri": "https://localhost:8080/",
          "height": 282
        },
        "id": "tIauEwvQSNiJ",
        "outputId": "6a9ad7d8-b8e1-4ccd-ac39-7815c15dcedc"
      },
      "execution_count": 33,
      "outputs": [
        {
          "output_type": "display_data",
          "data": {
            "text/plain": [
              "<Figure size 432x288 with 1 Axes>"
            ],
            "image/png": "[encoded data removed]"
          },
          "metadata": {
            "needs_background": "light"
          }
        }
      ]
    },
    {
      "cell_type": "code",
      "source": [
        "# Plot the loss curve\n",
        "import matplotlib.pyplot as plt\n",
        "%matplotlib inline\n",
        "epochs = range(50)\n",
        "train_loss = history3.history['loss']\n",
        "val_loss = history3.history['val_loss']\n",
        "plt.plot(epochs, train_loss, 'go', label = 'Training Loss')\n",
        "plt.plot(epochs, val_loss, 'r', label = 'Validation Loss')\n",
        "plt.xlabel('Epochs')\n",
        "plt.ylabel('Loss')\n",
        "plt.legend()\n",
        "plt.show()"
      ],
      "metadata": {
        "colab": {
          "base_uri": "https://localhost:8080/",
          "height": 279
        },
        "id": "5IR0w37DSVym",
        "outputId": "4d86b181-be11-43d9-a0f3-b0d1a30661c6"
      },
      "execution_count": 34,
      "outputs": [
        {
          "output_type": "display_data",
          "data": {
            "text/plain": [
              "<Figure size 432x288 with 1 Axes>"
            ],
            "image/png": "[encoded data removed]"
          },
          "metadata": {
            "needs_background": "light"
          }
        }
      ]
    },
    {
      "cell_type": "markdown",
      "source": [
        "6.3 Add BN layers\n",
        "\n",
        "\n",
        "*   In this case, implementation of BN layers can only slightly impove the test accuracy.\n",
        "*   It performs not so good as drop out layer.\n",
        "\n"
      ],
      "metadata": {
        "id": "wpcwtRzyRxhO"
      }
    },
    {
      "cell_type": "code",
      "source": [
        "model3 = models.Sequential()\n",
        "model3.add(layers.Conv2D(32,(3,3),padding='valid', input_shape=(32,32,3)))\n",
        "model3.add(layers.BatchNormalization())\n",
        "model3.add(layers.Activation('relu'))\n",
        "model3.add(layers.MaxPooling2D((2,2)))\n",
        "model3.add(layers.Conv2D(64,(4,4),padding='valid'))\n",
        "model3.add(layers.BatchNormalization())\n",
        "model3.add(layers.Activation('relu'))\n",
        "model3.add(layers.MaxPooling2D((2,2)))\n",
        "model3.add(layers.Flatten())\n",
        "model3.add(layers.Dense(256))\n",
        "model3.add(layers.BatchNormalization())\n",
        "model3.add(layers.Activation('relu'))\n",
        "model3.add(layers.Dense(10,activation='Softmax'))\n",
        "model3.summary()"
      ],
      "metadata": {
        "colab": {
          "base_uri": "https://localhost:8080/"
        },
        "id": "nwmY1mRevkD7",
        "outputId": "67df2602-fe56-47bc-f661-874cd3d4ec3f"
      },
      "execution_count": 36,
      "outputs": [
        {
          "output_type": "stream",
          "name": "stdout",
          "text": [
            "Model: \"sequential_4\"\n",
            "_________________________________________________________________\n",
            " Layer (type)                Output Shape              Param #   \n",
            "=================================================================\n",
            " conv2d_8 (Conv2D)           (None, 30, 30, 32)        896       \n",
            "                                                                 \n",
            " batch_normalization (BatchN  (None, 30, 30, 32)       128       \n",
            " ormalization)                                                   \n",
            "                                                                 \n",
            " activation (Activation)     (None, 30, 30, 32)        0         \n",
            "                                                                 \n",
            " max_pooling2d_8 (MaxPooling  (None, 15, 15, 32)       0         \n",
            " 2D)                                                             \n",
            "                                                                 \n",
            " conv2d_9 (Conv2D)           (None, 12, 12, 64)        32832     \n",
            "                                                                 \n",
            " batch_normalization_1 (Batc  (None, 12, 12, 64)       256       \n",
            " hNormalization)                                                 \n",
            "                                                                 \n",
            " activation_1 (Activation)   (None, 12, 12, 64)        0         \n",
            "                                                                 \n",
            " max_pooling2d_9 (MaxPooling  (None, 6, 6, 64)         0         \n",
            " 2D)                                                             \n",
            "                                                                 \n",
            " flatten_4 (Flatten)         (None, 2304)              0         \n",
            "                                                                 \n",
            " dense_8 (Dense)             (None, 256)               590080    \n",
            "                                                                 \n",
            " batch_normalization_2 (Batc  (None, 256)              1024      \n",
            " hNormalization)                                                 \n",
            "                                                                 \n",
            " activation_2 (Activation)   (None, 256)               0         \n",
            "                                                                 \n",
            " dense_9 (Dense)             (None, 10)                2570      \n",
            "                                                                 \n",
            "=================================================================\n",
            "Total params: 627,786\n",
            "Trainable params: 627,082\n",
            "Non-trainable params: 704\n",
            "_________________________________________________________________\n"
          ]
        }
      ]
    },
    {
      "cell_type": "code",
      "source": [
        "model3.compile(optimizers.RMSprop(learning_rate=1e-4),loss='categorical_crossentropy',metrics = 'accuracy')"
      ],
      "metadata": {
        "id": "U38eWGhDwWrc"
      },
      "execution_count": 37,
      "outputs": []
    },
    {
      "cell_type": "code",
      "source": [
        "history4 = model3.fit(x_tr, y_tr,\n",
        "                   batch_size=128, epochs=50,\n",
        "                   validation_data=(x_val, y_val))"
      ],
      "metadata": {
        "colab": {
          "base_uri": "https://localhost:8080/"
        },
        "id": "yYf1xU-YwZFE",
        "outputId": "e010f0ce-3a2c-4972-b6d7-578cf3886cfe"
      },
      "execution_count": 38,
      "outputs": [
        {
          "output_type": "stream",
          "name": "stdout",
          "text": [
            "Epoch 1/50\n",
            "313/313 [==============================] - 7s 16ms/step - loss: 1.4843 - accuracy: 0.4767 - val_loss: 1.3147 - val_accuracy: 0.5430\n",
            "Epoch 2/50\n",
            "313/313 [==============================] - 5s 16ms/step - loss: 1.1250 - accuracy: 0.6108 - val_loss: 1.1711 - val_accuracy: 0.5926\n",
            "Epoch 3/50\n",
            "313/313 [==============================] - 5s 17ms/step - loss: 0.9688 - accuracy: 0.6712 - val_loss: 1.0998 - val_accuracy: 0.6132\n",
            "Epoch 4/50\n",
            "313/313 [==============================] - 7s 22ms/step - loss: 0.8656 - accuracy: 0.7095 - val_loss: 1.0268 - val_accuracy: 0.6474\n",
            "Epoch 5/50\n",
            "313/313 [==============================] - 5s 16ms/step - loss: 0.7841 - accuracy: 0.7409 - val_loss: 0.9886 - val_accuracy: 0.6579\n",
            "Epoch 6/50\n",
            "313/313 [==============================] - 5s 17ms/step - loss: 0.7143 - accuracy: 0.7692 - val_loss: 0.9644 - val_accuracy: 0.6647\n",
            "Epoch 7/50\n",
            "313/313 [==============================] - 6s 20ms/step - loss: 0.6546 - accuracy: 0.7907 - val_loss: 1.0007 - val_accuracy: 0.6516\n",
            "Epoch 8/50\n",
            "313/313 [==============================] - 5s 15ms/step - loss: 0.5999 - accuracy: 0.8128 - val_loss: 0.9598 - val_accuracy: 0.6690\n",
            "Epoch 9/50\n",
            "313/313 [==============================] - 5s 16ms/step - loss: 0.5491 - accuracy: 0.8304 - val_loss: 0.9326 - val_accuracy: 0.6799\n",
            "Epoch 10/50\n",
            "313/313 [==============================] - 5s 16ms/step - loss: 0.5028 - accuracy: 0.8501 - val_loss: 0.9610 - val_accuracy: 0.6754\n",
            "Epoch 11/50\n",
            "313/313 [==============================] - 5s 17ms/step - loss: 0.4600 - accuracy: 0.8668 - val_loss: 0.9670 - val_accuracy: 0.6713\n",
            "Epoch 12/50\n",
            "313/313 [==============================] - 5s 15ms/step - loss: 0.4200 - accuracy: 0.8825 - val_loss: 1.0252 - val_accuracy: 0.6553\n",
            "Epoch 13/50\n",
            "313/313 [==============================] - 5s 17ms/step - loss: 0.3830 - accuracy: 0.8988 - val_loss: 0.9810 - val_accuracy: 0.6736\n",
            "Epoch 14/50\n",
            "313/313 [==============================] - 6s 18ms/step - loss: 0.3456 - accuracy: 0.9129 - val_loss: 0.9666 - val_accuracy: 0.6765\n",
            "Epoch 15/50\n",
            "313/313 [==============================] - 5s 15ms/step - loss: 0.3133 - accuracy: 0.9244 - val_loss: 1.0273 - val_accuracy: 0.6662\n",
            "Epoch 16/50\n",
            "313/313 [==============================] - 5s 15ms/step - loss: 0.2807 - accuracy: 0.9365 - val_loss: 1.0225 - val_accuracy: 0.6730\n",
            "Epoch 17/50\n",
            "313/313 [==============================] - 5s 16ms/step - loss: 0.2533 - accuracy: 0.9472 - val_loss: 0.9934 - val_accuracy: 0.6804\n",
            "Epoch 18/50\n",
            "313/313 [==============================] - 5s 15ms/step - loss: 0.2262 - accuracy: 0.9559 - val_loss: 1.0267 - val_accuracy: 0.6723\n",
            "Epoch 19/50\n",
            "313/313 [==============================] - 5s 16ms/step - loss: 0.2011 - accuracy: 0.9636 - val_loss: 1.0238 - val_accuracy: 0.6835\n",
            "Epoch 20/50\n",
            "313/313 [==============================] - 5s 15ms/step - loss: 0.1778 - accuracy: 0.9705 - val_loss: 1.0805 - val_accuracy: 0.6724\n",
            "Epoch 21/50\n",
            "313/313 [==============================] - 5s 17ms/step - loss: 0.1561 - accuracy: 0.9774 - val_loss: 1.1368 - val_accuracy: 0.6649\n",
            "Epoch 22/50\n",
            "313/313 [==============================] - 5s 16ms/step - loss: 0.1403 - accuracy: 0.9803 - val_loss: 1.1872 - val_accuracy: 0.6462\n",
            "Epoch 23/50\n",
            "313/313 [==============================] - 6s 18ms/step - loss: 0.1220 - accuracy: 0.9858 - val_loss: 1.1255 - val_accuracy: 0.6694\n",
            "Epoch 24/50\n",
            "313/313 [==============================] - 5s 17ms/step - loss: 0.1083 - accuracy: 0.9881 - val_loss: 1.1544 - val_accuracy: 0.6743\n",
            "Epoch 25/50\n",
            "313/313 [==============================] - 5s 15ms/step - loss: 0.0934 - accuracy: 0.9919 - val_loss: 1.1583 - val_accuracy: 0.6780\n",
            "Epoch 26/50\n",
            "313/313 [==============================] - 5s 17ms/step - loss: 0.0818 - accuracy: 0.9934 - val_loss: 1.2621 - val_accuracy: 0.6551\n",
            "Epoch 27/50\n",
            "313/313 [==============================] - 5s 16ms/step - loss: 0.0711 - accuracy: 0.9952 - val_loss: 1.2830 - val_accuracy: 0.6521\n",
            "Epoch 28/50\n",
            "313/313 [==============================] - 6s 20ms/step - loss: 0.0619 - accuracy: 0.9960 - val_loss: 1.2213 - val_accuracy: 0.6678\n",
            "Epoch 29/50\n",
            "313/313 [==============================] - 5s 16ms/step - loss: 0.0552 - accuracy: 0.9966 - val_loss: 1.2544 - val_accuracy: 0.6670\n",
            "Epoch 30/50\n",
            "313/313 [==============================] - 5s 15ms/step - loss: 0.0474 - accuracy: 0.9974 - val_loss: 1.3057 - val_accuracy: 0.6667\n",
            "Epoch 31/50\n",
            "313/313 [==============================] - 5s 16ms/step - loss: 0.0417 - accuracy: 0.9978 - val_loss: 1.3302 - val_accuracy: 0.6661\n",
            "Epoch 32/50\n",
            "313/313 [==============================] - 5s 15ms/step - loss: 0.0358 - accuracy: 0.9986 - val_loss: 1.3006 - val_accuracy: 0.6775\n",
            "Epoch 33/50\n",
            "313/313 [==============================] - 5s 16ms/step - loss: 0.0317 - accuracy: 0.9987 - val_loss: 1.3523 - val_accuracy: 0.6690\n",
            "Epoch 34/50\n",
            "313/313 [==============================] - 5s 15ms/step - loss: 0.0281 - accuracy: 0.9988 - val_loss: 1.3753 - val_accuracy: 0.6631\n",
            "Epoch 35/50\n",
            "313/313 [==============================] - 5s 15ms/step - loss: 0.0245 - accuracy: 0.9990 - val_loss: 1.3986 - val_accuracy: 0.6732\n",
            "Epoch 36/50\n",
            "313/313 [==============================] - 5s 16ms/step - loss: 0.0218 - accuracy: 0.9993 - val_loss: 1.4788 - val_accuracy: 0.6604\n",
            "Epoch 37/50\n",
            "313/313 [==============================] - 5s 15ms/step - loss: 0.0192 - accuracy: 0.9994 - val_loss: 1.4464 - val_accuracy: 0.6712\n",
            "Epoch 38/50\n",
            "313/313 [==============================] - 5s 15ms/step - loss: 0.0170 - accuracy: 0.9996 - val_loss: 1.4633 - val_accuracy: 0.6705\n",
            "Epoch 39/50\n",
            "313/313 [==============================] - 5s 16ms/step - loss: 0.0149 - accuracy: 0.9995 - val_loss: 1.5566 - val_accuracy: 0.6550\n",
            "Epoch 40/50\n",
            "313/313 [==============================] - 5s 16ms/step - loss: 0.0135 - accuracy: 0.9998 - val_loss: 1.5183 - val_accuracy: 0.6664\n",
            "Epoch 41/50\n",
            "313/313 [==============================] - 5s 15ms/step - loss: 0.0123 - accuracy: 0.9997 - val_loss: 1.8670 - val_accuracy: 0.6251\n",
            "Epoch 42/50\n",
            "313/313 [==============================] - 5s 15ms/step - loss: 0.0107 - accuracy: 0.9997 - val_loss: 1.6717 - val_accuracy: 0.6509\n",
            "Epoch 43/50\n",
            "313/313 [==============================] - 5s 16ms/step - loss: 0.0102 - accuracy: 0.9997 - val_loss: 1.5502 - val_accuracy: 0.6722\n",
            "Epoch 44/50\n",
            "313/313 [==============================] - 5s 15ms/step - loss: 0.0089 - accuracy: 0.9998 - val_loss: 1.5641 - val_accuracy: 0.6710\n",
            "Epoch 45/50\n",
            "313/313 [==============================] - 5s 15ms/step - loss: 0.0082 - accuracy: 0.9997 - val_loss: 1.6495 - val_accuracy: 0.6586\n",
            "Epoch 46/50\n",
            "313/313 [==============================] - 5s 16ms/step - loss: 0.0073 - accuracy: 0.9998 - val_loss: 1.5840 - val_accuracy: 0.6785\n",
            "Epoch 47/50\n",
            "313/313 [==============================] - 5s 16ms/step - loss: 0.0071 - accuracy: 0.9997 - val_loss: 1.6478 - val_accuracy: 0.6665\n",
            "Epoch 48/50\n",
            "313/313 [==============================] - 5s 16ms/step - loss: 0.0064 - accuracy: 0.9998 - val_loss: 1.6489 - val_accuracy: 0.6639\n",
            "Epoch 49/50\n",
            "313/313 [==============================] - 5s 15ms/step - loss: 0.0055 - accuracy: 0.9998 - val_loss: 1.7398 - val_accuracy: 0.6676\n",
            "Epoch 50/50\n",
            "313/313 [==============================] - 5s 16ms/step - loss: 0.0051 - accuracy: 0.9999 - val_loss: 1.7318 - val_accuracy: 0.6669\n"
          ]
        }
      ]
    },
    {
      "cell_type": "code",
      "source": [
        "#Recompile the model\n",
        "model3.compile(optimizers.RMSprop(learning_rate=1e-4),loss='categorical_crossentropy',metrics = 'accuracy')"
      ],
      "metadata": {
        "id": "LeruJP2QTS2w"
      },
      "execution_count": 39,
      "outputs": []
    },
    {
      "cell_type": "code",
      "source": [
        "#<Train the model on the entire training set \n",
        "history4x = model3.fit(x_train, y_train_vec,\n",
        "                   batch_size=128, epochs=50)"
      ],
      "metadata": {
        "colab": {
          "base_uri": "https://localhost:8080/"
        },
        "id": "8DrzuscBTXZZ",
        "outputId": "3a85cbdc-3681-4932-d633-89aee93b7716"
      },
      "execution_count": 40,
      "outputs": [
        {
          "output_type": "stream",
          "name": "stdout",
          "text": [
            "Epoch 1/50\n",
            "391/391 [==============================] - 7s 14ms/step - loss: 0.3364 - accuracy: 0.9320\n",
            "Epoch 2/50\n",
            "391/391 [==============================] - 5s 13ms/step - loss: 0.1962 - accuracy: 0.9496\n",
            "Epoch 3/50\n",
            "391/391 [==============================] - 5s 14ms/step - loss: 0.1255 - accuracy: 0.9656\n",
            "Epoch 4/50\n",
            "391/391 [==============================] - 5s 13ms/step - loss: 0.0846 - accuracy: 0.9772\n",
            "Epoch 5/50\n",
            "391/391 [==============================] - 5s 14ms/step - loss: 0.0612 - accuracy: 0.9852\n",
            "Epoch 6/50\n",
            "391/391 [==============================] - 5s 13ms/step - loss: 0.0447 - accuracy: 0.9909\n",
            "Epoch 7/50\n",
            "391/391 [==============================] - 5s 14ms/step - loss: 0.0357 - accuracy: 0.9938\n",
            "Epoch 8/50\n",
            "391/391 [==============================] - 5s 14ms/step - loss: 0.0289 - accuracy: 0.9961\n",
            "Epoch 9/50\n",
            "391/391 [==============================] - 5s 13ms/step - loss: 0.0242 - accuracy: 0.9971\n",
            "Epoch 10/50\n",
            "391/391 [==============================] - 5s 14ms/step - loss: 0.0199 - accuracy: 0.9978\n",
            "Epoch 11/50\n",
            "391/391 [==============================] - 5s 14ms/step - loss: 0.0178 - accuracy: 0.9983\n",
            "Epoch 12/50\n",
            "391/391 [==============================] - 5s 14ms/step - loss: 0.0152 - accuracy: 0.9989\n",
            "Epoch 13/50\n",
            "391/391 [==============================] - 5s 14ms/step - loss: 0.0136 - accuracy: 0.9989\n",
            "Epoch 14/50\n",
            "391/391 [==============================] - 5s 14ms/step - loss: 0.0115 - accuracy: 0.9994\n",
            "Epoch 15/50\n",
            "391/391 [==============================] - 5s 14ms/step - loss: 0.0105 - accuracy: 0.9993\n",
            "Epoch 16/50\n",
            "391/391 [==============================] - 6s 14ms/step - loss: 0.0092 - accuracy: 0.9996\n",
            "Epoch 17/50\n",
            "391/391 [==============================] - 5s 14ms/step - loss: 0.0087 - accuracy: 0.9995\n",
            "Epoch 18/50\n",
            "391/391 [==============================] - 5s 14ms/step - loss: 0.0077 - accuracy: 0.9997\n",
            "Epoch 19/50\n",
            "391/391 [==============================] - 5s 14ms/step - loss: 0.0073 - accuracy: 0.9995\n",
            "Epoch 20/50\n",
            "391/391 [==============================] - 5s 14ms/step - loss: 0.0066 - accuracy: 0.9998\n",
            "Epoch 21/50\n",
            "391/391 [==============================] - 5s 14ms/step - loss: 0.0060 - accuracy: 0.9998\n",
            "Epoch 22/50\n",
            "391/391 [==============================] - 5s 14ms/step - loss: 0.0055 - accuracy: 0.9997\n",
            "Epoch 23/50\n",
            "391/391 [==============================] - 5s 14ms/step - loss: 0.0054 - accuracy: 0.9996\n",
            "Epoch 24/50\n",
            "391/391 [==============================] - 5s 14ms/step - loss: 0.0050 - accuracy: 0.9998\n",
            "Epoch 25/50\n",
            "391/391 [==============================] - 5s 13ms/step - loss: 0.0042 - accuracy: 0.9998\n",
            "Epoch 26/50\n",
            "391/391 [==============================] - 5s 14ms/step - loss: 0.0040 - accuracy: 0.9998\n",
            "Epoch 27/50\n",
            "391/391 [==============================] - 5s 14ms/step - loss: 0.0041 - accuracy: 0.9998\n",
            "Epoch 28/50\n",
            "391/391 [==============================] - 5s 13ms/step - loss: 0.0037 - accuracy: 0.9998\n",
            "Epoch 29/50\n",
            "391/391 [==============================] - 5s 13ms/step - loss: 0.0035 - accuracy: 0.9997\n",
            "Epoch 30/50\n",
            "391/391 [==============================] - 5s 14ms/step - loss: 0.0032 - accuracy: 0.9998\n",
            "Epoch 31/50\n",
            "391/391 [==============================] - 5s 14ms/step - loss: 0.0033 - accuracy: 0.9998\n",
            "Epoch 32/50\n",
            "391/391 [==============================] - 5s 14ms/step - loss: 0.0030 - accuracy: 0.9999\n",
            "Epoch 33/50\n",
            "391/391 [==============================] - 5s 13ms/step - loss: 0.0027 - accuracy: 0.9999\n",
            "Epoch 34/50\n",
            "391/391 [==============================] - 5s 14ms/step - loss: 0.0026 - accuracy: 0.9999\n",
            "Epoch 35/50\n",
            "391/391 [==============================] - 5s 14ms/step - loss: 0.0025 - accuracy: 0.9998\n",
            "Epoch 36/50\n",
            "391/391 [==============================] - 5s 14ms/step - loss: 0.0026 - accuracy: 0.9997\n",
            "Epoch 37/50\n",
            "391/391 [==============================] - 5s 13ms/step - loss: 0.0022 - accuracy: 0.9999\n",
            "Epoch 38/50\n",
            "391/391 [==============================] - 5s 13ms/step - loss: 0.0021 - accuracy: 0.9999\n",
            "Epoch 39/50\n",
            "391/391 [==============================] - 6s 16ms/step - loss: 0.0021 - accuracy: 0.9998\n",
            "Epoch 40/50\n",
            "391/391 [==============================] - 5s 13ms/step - loss: 0.0020 - accuracy: 0.9999\n",
            "Epoch 41/50\n",
            "391/391 [==============================] - 5s 13ms/step - loss: 0.0018 - accuracy: 0.9999\n",
            "Epoch 42/50\n",
            "391/391 [==============================] - 5s 14ms/step - loss: 0.0018 - accuracy: 0.9999\n",
            "Epoch 43/50\n",
            "391/391 [==============================] - 5s 14ms/step - loss: 0.0019 - accuracy: 0.9998\n",
            "Epoch 44/50\n",
            "391/391 [==============================] - 5s 14ms/step - loss: 0.0016 - accuracy: 1.0000\n",
            "Epoch 45/50\n",
            "391/391 [==============================] - 5s 13ms/step - loss: 0.0015 - accuracy: 0.9999\n",
            "Epoch 46/50\n",
            "391/391 [==============================] - 5s 13ms/step - loss: 0.0015 - accuracy: 0.9999\n",
            "Epoch 47/50\n",
            "391/391 [==============================] - 5s 14ms/step - loss: 0.0016 - accuracy: 0.9999\n",
            "Epoch 48/50\n",
            "391/391 [==============================] - 5s 13ms/step - loss: 0.0015 - accuracy: 0.9999\n",
            "Epoch 49/50\n",
            "391/391 [==============================] - 5s 13ms/step - loss: 0.0017 - accuracy: 0.9999\n",
            "Epoch 50/50\n",
            "391/391 [==============================] - 5s 14ms/step - loss: 0.0014 - accuracy: 0.9999\n"
          ]
        }
      ]
    },
    {
      "cell_type": "code",
      "source": [
        "model3.evaluate(x_test,y_test_vec)\n",
        "#the test acc is 0.6852"
      ],
      "metadata": {
        "colab": {
          "base_uri": "https://localhost:8080/"
        },
        "id": "s_Vuq325TnXW",
        "outputId": "bb319943-2c39-4de8-c79d-0c2089784c35"
      },
      "execution_count": 41,
      "outputs": [
        {
          "output_type": "stream",
          "name": "stdout",
          "text": [
            "313/313 [==============================] - 2s 5ms/step - loss: 1.9548 - accuracy: 0.6852\n"
          ]
        },
        {
          "output_type": "execute_result",
          "data": {
            "text/plain": [
              "[1.9547537565231323, 0.6851999759674072]"
            ]
          },
          "metadata": {},
          "execution_count": 41
        }
      ]
    },
    {
      "cell_type": "code",
      "source": [
        "# Plot the accuracy curve\n",
        "import matplotlib.pyplot as plt\n",
        "%matplotlib inline\n",
        "\n",
        "epochs = range(50)\n",
        "train_acc = history4.history['accuracy']\n",
        "val_acc = history4.history['val_accuracy']\n",
        "plt.plot(epochs, train_acc, 'go', label = 'Training Accuracy')\n",
        "plt.plot(epochs, val_acc, 'r', label = 'Validation Accuracy')\n",
        "plt.xlabel('Epochs')\n",
        "plt.ylabel('Loss')\n",
        "plt.legend()\n",
        "plt.show()"
      ],
      "metadata": {
        "colab": {
          "base_uri": "https://localhost:8080/",
          "height": 279
        },
        "id": "gigE-IPUTrny",
        "outputId": "3ac7693b-0d33-4d71-9541-826c62cfdd53"
      },
      "execution_count": 42,
      "outputs": [
        {
          "output_type": "display_data",
          "data": {
            "text/plain": [
              "<Figure size 432x288 with 1 Axes>"
            ],
            "image/png": "[encoded data removed]"
          },
          "metadata": {
            "needs_background": "light"
          }
        }
      ]
    },
    {
      "cell_type": "code",
      "source": [
        "# Plot the loss curve\n",
        "import matplotlib.pyplot as plt\n",
        "%matplotlib inline\n",
        "epochs = range(50)\n",
        "train_loss = history4.history['loss']\n",
        "val_loss = history4.history['val_loss']\n",
        "plt.plot(epochs, train_loss, 'go', label = 'Training Loss')\n",
        "plt.plot(epochs, val_loss, 'r', label = 'Validation Loss')\n",
        "plt.xlabel('Epochs')\n",
        "plt.ylabel('Loss')\n",
        "plt.legend()\n",
        "plt.show()"
      ],
      "metadata": {
        "colab": {
          "base_uri": "https://localhost:8080/",
          "height": 279
        },
        "id": "AFjJsPqTTwDn",
        "outputId": "e4281ff3-58be-450f-8dff-4bd521454c73"
      },
      "execution_count": 43,
      "outputs": [
        {
          "output_type": "display_data",
          "data": {
            "text/plain": [
              "<Figure size 432x288 with 1 Axes>"
            ],
            "image/png": "[encoded data removed]"
          },
          "metadata": {
            "needs_background": "light"
          }
        }
      ]
    }
  ],
  "metadata": {
    "kernelspec": {
      "display_name": "Python 3",
      "language": "python",
      "name": "python3"
    },
    "language_info": {
      "codemirror_mode": {
        "name": "ipython",
        "version": 3
      },
      "file_extension": ".py",
      "mimetype": "text/x-python",
      "name": "python",
      "nbconvert_exporter": "python",
      "pygments_lexer": "ipython3",
      "version": "3.8.8"
    },
    "colab": {
      "name": "Assignment2.ipynb",
      "provenance": [],
      "collapsed_sections": [],
      "include_colab_link": true
    },
    "accelerator": "GPU"
  },
  "nbformat": 4,
  "nbformat_minor": 0
}